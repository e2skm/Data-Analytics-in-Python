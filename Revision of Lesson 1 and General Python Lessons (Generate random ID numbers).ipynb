{
 "cells": [
  {
   "cell_type": "markdown",
   "metadata": {},
   "source": [
    "# Revision of Lesson 1 and General Python Lessons"
   ]
  },
  {
   "cell_type": "markdown",
   "metadata": {},
   "source": [
    "## Generate random ID numbers "
   ]
  },
  {
   "cell_type": "markdown",
   "metadata": {},
   "source": [
    "### Import the necessary Libraries  "
   ]
  },
  {
   "cell_type": "code",
   "execution_count": 5193,
   "metadata": {},
   "outputs": [],
   "source": [
    "import numpy as np"
   ]
  },
  {
   "cell_type": "code",
   "execution_count": 5194,
   "metadata": {},
   "outputs": [],
   "source": [
    "import pandas as pd"
   ]
  },
  {
   "cell_type": "code",
   "execution_count": 5195,
   "metadata": {},
   "outputs": [],
   "source": [
    "import matplotlib.pyplot as plt"
   ]
  },
  {
   "cell_type": "markdown",
   "metadata": {},
   "source": [
    "### Generate random D.O.B"
   ]
  },
  {
   "cell_type": "code",
   "execution_count": 5196,
   "metadata": {},
   "outputs": [],
   "source": [
    "sample_size = 500"
   ]
  },
  {
   "cell_type": "code",
   "execution_count": 5197,
   "metadata": {},
   "outputs": [],
   "source": [
    "dates = pd.date_range(start='1994-01-01', end='2004-12-31')"
   ]
  },
  {
   "cell_type": "code",
   "execution_count": 5198,
   "metadata": {},
   "outputs": [],
   "source": [
    "sample_data = {\n",
    "  'Date_Of_Birth': np.random.choice(dates,sample_size),\n",
    "  'Gender': np.random.choice(['Male','Female'],sample_size),\n",
    "  'Citizen': np.random.choice(['RSA','Other'],sample_size),\n",
    "  'Race': np.random.choice(['African','White','Asian','Indian','Arab'],sample_size)\n",
    "}\n",
    "df_ID_no = pd.DataFrame(sample_data)"
   ]
  },
  {
   "cell_type": "markdown",
   "metadata": {},
   "source": [
    "### Save to CSV"
   ]
  },
  {
   "cell_type": "code",
   "execution_count": 5199,
   "metadata": {},
   "outputs": [],
   "source": [
    "df_ID_no.to_csv(r'C:\\Users\\Itumeleng.Sekoma\\Desktop\\Test777777\\.ipynb_checkpoints\\Identification.csv', index=False)"
   ]
  },
  {
   "cell_type": "markdown",
   "metadata": {},
   "source": [
    "### Inspect DataFrame"
   ]
  },
  {
   "cell_type": "code",
   "execution_count": 5200,
   "metadata": {},
   "outputs": [
    {
     "data": {
      "text/html": [
       "<div>\n",
       "<style scoped>\n",
       "    .dataframe tbody tr th:only-of-type {\n",
       "        vertical-align: middle;\n",
       "    }\n",
       "\n",
       "    .dataframe tbody tr th {\n",
       "        vertical-align: top;\n",
       "    }\n",
       "\n",
       "    .dataframe thead th {\n",
       "        text-align: right;\n",
       "    }\n",
       "</style>\n",
       "<table border=\"1\" class=\"dataframe\">\n",
       "  <thead>\n",
       "    <tr style=\"text-align: right;\">\n",
       "      <th></th>\n",
       "      <th>Date_Of_Birth</th>\n",
       "      <th>Gender</th>\n",
       "      <th>Citizen</th>\n",
       "      <th>Race</th>\n",
       "    </tr>\n",
       "  </thead>\n",
       "  <tbody>\n",
       "    <tr>\n",
       "      <th>0</th>\n",
       "      <td>2004-07-29</td>\n",
       "      <td>Female</td>\n",
       "      <td>Other</td>\n",
       "      <td>Asian</td>\n",
       "    </tr>\n",
       "    <tr>\n",
       "      <th>1</th>\n",
       "      <td>2002-01-08</td>\n",
       "      <td>Female</td>\n",
       "      <td>Other</td>\n",
       "      <td>Indian</td>\n",
       "    </tr>\n",
       "    <tr>\n",
       "      <th>2</th>\n",
       "      <td>1996-06-29</td>\n",
       "      <td>Male</td>\n",
       "      <td>Other</td>\n",
       "      <td>African</td>\n",
       "    </tr>\n",
       "    <tr>\n",
       "      <th>3</th>\n",
       "      <td>2003-03-22</td>\n",
       "      <td>Female</td>\n",
       "      <td>RSA</td>\n",
       "      <td>African</td>\n",
       "    </tr>\n",
       "    <tr>\n",
       "      <th>4</th>\n",
       "      <td>1999-12-02</td>\n",
       "      <td>Male</td>\n",
       "      <td>RSA</td>\n",
       "      <td>Asian</td>\n",
       "    </tr>\n",
       "  </tbody>\n",
       "</table>\n",
       "</div>"
      ],
      "text/plain": [
       "  Date_Of_Birth  Gender Citizen     Race\n",
       "0    2004-07-29  Female   Other    Asian\n",
       "1    2002-01-08  Female   Other   Indian\n",
       "2    1996-06-29    Male   Other  African\n",
       "3    2003-03-22  Female     RSA  African\n",
       "4    1999-12-02    Male     RSA    Asian"
      ]
     },
     "execution_count": 5200,
     "metadata": {},
     "output_type": "execute_result"
    }
   ],
   "source": [
    "df_ID_no.head()"
   ]
  },
  {
   "cell_type": "code",
   "execution_count": 5201,
   "metadata": {},
   "outputs": [
    {
     "data": {
      "text/html": [
       "<div>\n",
       "<style scoped>\n",
       "    .dataframe tbody tr th:only-of-type {\n",
       "        vertical-align: middle;\n",
       "    }\n",
       "\n",
       "    .dataframe tbody tr th {\n",
       "        vertical-align: top;\n",
       "    }\n",
       "\n",
       "    .dataframe thead th {\n",
       "        text-align: right;\n",
       "    }\n",
       "</style>\n",
       "<table border=\"1\" class=\"dataframe\">\n",
       "  <thead>\n",
       "    <tr style=\"text-align: right;\">\n",
       "      <th></th>\n",
       "      <th>Date_Of_Birth</th>\n",
       "      <th>Gender</th>\n",
       "      <th>Citizen</th>\n",
       "      <th>Race</th>\n",
       "    </tr>\n",
       "  </thead>\n",
       "  <tbody>\n",
       "    <tr>\n",
       "      <th>495</th>\n",
       "      <td>2003-11-04</td>\n",
       "      <td>Female</td>\n",
       "      <td>RSA</td>\n",
       "      <td>White</td>\n",
       "    </tr>\n",
       "    <tr>\n",
       "      <th>496</th>\n",
       "      <td>2001-07-04</td>\n",
       "      <td>Female</td>\n",
       "      <td>RSA</td>\n",
       "      <td>White</td>\n",
       "    </tr>\n",
       "    <tr>\n",
       "      <th>497</th>\n",
       "      <td>1997-08-01</td>\n",
       "      <td>Male</td>\n",
       "      <td>RSA</td>\n",
       "      <td>African</td>\n",
       "    </tr>\n",
       "    <tr>\n",
       "      <th>498</th>\n",
       "      <td>2000-08-31</td>\n",
       "      <td>Female</td>\n",
       "      <td>Other</td>\n",
       "      <td>Indian</td>\n",
       "    </tr>\n",
       "    <tr>\n",
       "      <th>499</th>\n",
       "      <td>1998-02-12</td>\n",
       "      <td>Male</td>\n",
       "      <td>Other</td>\n",
       "      <td>White</td>\n",
       "    </tr>\n",
       "  </tbody>\n",
       "</table>\n",
       "</div>"
      ],
      "text/plain": [
       "    Date_Of_Birth  Gender Citizen     Race\n",
       "495    2003-11-04  Female     RSA    White\n",
       "496    2001-07-04  Female     RSA    White\n",
       "497    1997-08-01    Male     RSA  African\n",
       "498    2000-08-31  Female   Other   Indian\n",
       "499    1998-02-12    Male   Other    White"
      ]
     },
     "execution_count": 5201,
     "metadata": {},
     "output_type": "execute_result"
    }
   ],
   "source": [
    "df_ID_no.tail()"
   ]
  },
  {
   "cell_type": "code",
   "execution_count": 5202,
   "metadata": {},
   "outputs": [
    {
     "data": {
      "text/html": [
       "<div>\n",
       "<style scoped>\n",
       "    .dataframe tbody tr th:only-of-type {\n",
       "        vertical-align: middle;\n",
       "    }\n",
       "\n",
       "    .dataframe tbody tr th {\n",
       "        vertical-align: top;\n",
       "    }\n",
       "\n",
       "    .dataframe thead th {\n",
       "        text-align: right;\n",
       "    }\n",
       "</style>\n",
       "<table border=\"1\" class=\"dataframe\">\n",
       "  <thead>\n",
       "    <tr style=\"text-align: right;\">\n",
       "      <th></th>\n",
       "      <th>Date_Of_Birth</th>\n",
       "    </tr>\n",
       "  </thead>\n",
       "  <tbody>\n",
       "    <tr>\n",
       "      <th>count</th>\n",
       "      <td>500</td>\n",
       "    </tr>\n",
       "    <tr>\n",
       "      <th>mean</th>\n",
       "      <td>1999-06-04 11:08:09.600000</td>\n",
       "    </tr>\n",
       "    <tr>\n",
       "      <th>min</th>\n",
       "      <td>1994-01-11 00:00:00</td>\n",
       "    </tr>\n",
       "    <tr>\n",
       "      <th>25%</th>\n",
       "      <td>1996-06-19 00:00:00</td>\n",
       "    </tr>\n",
       "    <tr>\n",
       "      <th>50%</th>\n",
       "      <td>1999-07-06 12:00:00</td>\n",
       "    </tr>\n",
       "    <tr>\n",
       "      <th>75%</th>\n",
       "      <td>2002-01-19 18:00:00</td>\n",
       "    </tr>\n",
       "    <tr>\n",
       "      <th>max</th>\n",
       "      <td>2004-12-25 00:00:00</td>\n",
       "    </tr>\n",
       "  </tbody>\n",
       "</table>\n",
       "</div>"
      ],
      "text/plain": [
       "                    Date_Of_Birth\n",
       "count                         500\n",
       "mean   1999-06-04 11:08:09.600000\n",
       "min           1994-01-11 00:00:00\n",
       "25%           1996-06-19 00:00:00\n",
       "50%           1999-07-06 12:00:00\n",
       "75%           2002-01-19 18:00:00\n",
       "max           2004-12-25 00:00:00"
      ]
     },
     "execution_count": 5202,
     "metadata": {},
     "output_type": "execute_result"
    }
   ],
   "source": [
    "df_ID_no.describe()"
   ]
  },
  {
   "cell_type": "code",
   "execution_count": 5203,
   "metadata": {},
   "outputs": [
    {
     "name": "stdout",
     "output_type": "stream",
     "text": [
      "<class 'pandas.core.frame.DataFrame'>\n",
      "RangeIndex: 500 entries, 0 to 499\n",
      "Data columns (total 4 columns):\n",
      " #   Column         Non-Null Count  Dtype         \n",
      "---  ------         --------------  -----         \n",
      " 0   Date_Of_Birth  500 non-null    datetime64[ns]\n",
      " 1   Gender         500 non-null    object        \n",
      " 2   Citizen        500 non-null    object        \n",
      " 3   Race           500 non-null    object        \n",
      "dtypes: datetime64[ns](1), object(3)\n",
      "memory usage: 15.8+ KB\n"
     ]
    }
   ],
   "source": [
    "df_ID_no.info()"
   ]
  },
  {
   "cell_type": "code",
   "execution_count": 5204,
   "metadata": {},
   "outputs": [],
   "source": [
    "df_ID_no['ID_Numbers'] = df_ID_no['Date_Of_Birth'].dt.strftime('%y%m%d')"
   ]
  },
  {
   "cell_type": "code",
   "execution_count": 5205,
   "metadata": {},
   "outputs": [],
   "source": [
    "def generate_gender_digits(gender):\n",
    "    if gender == 'Female':\n",
    "        return np.random.randint(0, 5000)  # Female: 0000-4999\n",
    "    else:\n",
    "        return np.random.randint(5000, 8001)  # Male: 5000-8000\n",
    "\n",
    "# Apply the function to generate 4-digit numbers based on gender\n",
    "df_ID_no['Gender_Digits'] = df_ID_no['Gender'].apply(generate_gender_digits)\n",
    "\n",
    "# Convert the 4-digit number to a zero-padded string\n",
    "df_ID_no['Gender_Digits'] = df_ID_no['Gender_Digits'].apply(lambda x: f'{x:04d}')\n",
    "\n",
    "# Concatenate the 6-digit ID_Numbers and 4-digit Gender_Digits\n",
    "df_ID_no['ID_Numbers'] = df_ID_no['ID_Numbers'] + df_ID_no['Gender_Digits']"
   ]
  },
  {
   "cell_type": "code",
   "execution_count": 5206,
   "metadata": {},
   "outputs": [],
   "source": [
    "def generate_citizenship_digits(Citizen):\n",
    "    if Citizen == 'Other':\n",
    "         return np.random.choice(['082','083','085','086']) \n",
    "    else:\n",
    "        return '084' \n",
    "       \n",
    "\n",
    "# Apply the function to generate 4-digit numbers based on gender\n",
    "df_ID_no['Citizenship_Digits'] = df_ID_no['Citizen'].apply(generate_citizenship_digits)\n",
    "\n",
    "# Concatenate the 6-digit ID_Numbers and 4-digit Gender_Digits\n",
    "df_ID_no['ID_Numbers'] += df_ID_no['Citizenship_Digits']"
   ]
  },
  {
   "cell_type": "code",
   "execution_count": 5207,
   "metadata": {},
   "outputs": [
    {
     "data": {
      "text/html": [
       "<div>\n",
       "<style scoped>\n",
       "    .dataframe tbody tr th:only-of-type {\n",
       "        vertical-align: middle;\n",
       "    }\n",
       "\n",
       "    .dataframe tbody tr th {\n",
       "        vertical-align: top;\n",
       "    }\n",
       "\n",
       "    .dataframe thead th {\n",
       "        text-align: right;\n",
       "    }\n",
       "</style>\n",
       "<table border=\"1\" class=\"dataframe\">\n",
       "  <thead>\n",
       "    <tr style=\"text-align: right;\">\n",
       "      <th></th>\n",
       "      <th>Date_Of_Birth</th>\n",
       "      <th>Gender</th>\n",
       "      <th>Citizen</th>\n",
       "      <th>Race</th>\n",
       "      <th>ID_Numbers</th>\n",
       "      <th>Gender_Digits</th>\n",
       "      <th>Citizenship_Digits</th>\n",
       "    </tr>\n",
       "  </thead>\n",
       "  <tbody>\n",
       "    <tr>\n",
       "      <th>495</th>\n",
       "      <td>2003-11-04</td>\n",
       "      <td>Female</td>\n",
       "      <td>RSA</td>\n",
       "      <td>White</td>\n",
       "      <td>0311042600084</td>\n",
       "      <td>2600</td>\n",
       "      <td>084</td>\n",
       "    </tr>\n",
       "    <tr>\n",
       "      <th>496</th>\n",
       "      <td>2001-07-04</td>\n",
       "      <td>Female</td>\n",
       "      <td>RSA</td>\n",
       "      <td>White</td>\n",
       "      <td>0107043118084</td>\n",
       "      <td>3118</td>\n",
       "      <td>084</td>\n",
       "    </tr>\n",
       "    <tr>\n",
       "      <th>497</th>\n",
       "      <td>1997-08-01</td>\n",
       "      <td>Male</td>\n",
       "      <td>RSA</td>\n",
       "      <td>African</td>\n",
       "      <td>9708017449084</td>\n",
       "      <td>7449</td>\n",
       "      <td>084</td>\n",
       "    </tr>\n",
       "    <tr>\n",
       "      <th>498</th>\n",
       "      <td>2000-08-31</td>\n",
       "      <td>Female</td>\n",
       "      <td>Other</td>\n",
       "      <td>Indian</td>\n",
       "      <td>0008311063082</td>\n",
       "      <td>1063</td>\n",
       "      <td>082</td>\n",
       "    </tr>\n",
       "    <tr>\n",
       "      <th>499</th>\n",
       "      <td>1998-02-12</td>\n",
       "      <td>Male</td>\n",
       "      <td>Other</td>\n",
       "      <td>White</td>\n",
       "      <td>9802125984085</td>\n",
       "      <td>5984</td>\n",
       "      <td>085</td>\n",
       "    </tr>\n",
       "  </tbody>\n",
       "</table>\n",
       "</div>"
      ],
      "text/plain": [
       "    Date_Of_Birth  Gender Citizen     Race     ID_Numbers Gender_Digits  \\\n",
       "495    2003-11-04  Female     RSA    White  0311042600084          2600   \n",
       "496    2001-07-04  Female     RSA    White  0107043118084          3118   \n",
       "497    1997-08-01    Male     RSA  African  9708017449084          7449   \n",
       "498    2000-08-31  Female   Other   Indian  0008311063082          1063   \n",
       "499    1998-02-12    Male   Other    White  9802125984085          5984   \n",
       "\n",
       "    Citizenship_Digits  \n",
       "495                084  \n",
       "496                084  \n",
       "497                084  \n",
       "498                082  \n",
       "499                085  "
      ]
     },
     "execution_count": 5207,
     "metadata": {},
     "output_type": "execute_result"
    }
   ],
   "source": [
    "df_ID_no.tail()"
   ]
  },
  {
   "cell_type": "code",
   "execution_count": 5208,
   "metadata": {},
   "outputs": [],
   "source": [
    "df_ID_no.to_csv(r'C:\\Users\\Itumeleng.Sekoma\\Desktop\\Test777777\\.ipynb_checkpoints\\Identification.csv', index=False)"
   ]
  },
  {
   "cell_type": "code",
   "execution_count": 5209,
   "metadata": {},
   "outputs": [
    {
     "data": {
      "text/html": [
       "<div>\n",
       "<style scoped>\n",
       "    .dataframe tbody tr th:only-of-type {\n",
       "        vertical-align: middle;\n",
       "    }\n",
       "\n",
       "    .dataframe tbody tr th {\n",
       "        vertical-align: top;\n",
       "    }\n",
       "\n",
       "    .dataframe thead th {\n",
       "        text-align: right;\n",
       "    }\n",
       "</style>\n",
       "<table border=\"1\" class=\"dataframe\">\n",
       "  <thead>\n",
       "    <tr style=\"text-align: right;\">\n",
       "      <th></th>\n",
       "      <th>ID_Numbers</th>\n",
       "      <th>Date_Of_Birth</th>\n",
       "      <th>Gender</th>\n",
       "      <th>Citizen</th>\n",
       "    </tr>\n",
       "  </thead>\n",
       "  <tbody>\n",
       "    <tr>\n",
       "      <th>0</th>\n",
       "      <td>0407294268082</td>\n",
       "      <td>2004-07-29</td>\n",
       "      <td>Female</td>\n",
       "      <td>Other</td>\n",
       "    </tr>\n",
       "    <tr>\n",
       "      <th>1</th>\n",
       "      <td>0201081136085</td>\n",
       "      <td>2002-01-08</td>\n",
       "      <td>Female</td>\n",
       "      <td>Other</td>\n",
       "    </tr>\n",
       "    <tr>\n",
       "      <th>2</th>\n",
       "      <td>9606296545086</td>\n",
       "      <td>1996-06-29</td>\n",
       "      <td>Male</td>\n",
       "      <td>Other</td>\n",
       "    </tr>\n",
       "    <tr>\n",
       "      <th>3</th>\n",
       "      <td>0303224826084</td>\n",
       "      <td>2003-03-22</td>\n",
       "      <td>Female</td>\n",
       "      <td>RSA</td>\n",
       "    </tr>\n",
       "    <tr>\n",
       "      <th>4</th>\n",
       "      <td>9912026506084</td>\n",
       "      <td>1999-12-02</td>\n",
       "      <td>Male</td>\n",
       "      <td>RSA</td>\n",
       "    </tr>\n",
       "  </tbody>\n",
       "</table>\n",
       "</div>"
      ],
      "text/plain": [
       "      ID_Numbers Date_Of_Birth  Gender Citizen\n",
       "0  0407294268082    2004-07-29  Female   Other\n",
       "1  0201081136085    2002-01-08  Female   Other\n",
       "2  9606296545086    1996-06-29    Male   Other\n",
       "3  0303224826084    2003-03-22  Female     RSA\n",
       "4  9912026506084    1999-12-02    Male     RSA"
      ]
     },
     "execution_count": 5209,
     "metadata": {},
     "output_type": "execute_result"
    }
   ],
   "source": [
    "df_ID_no[['ID_Numbers','Date_Of_Birth','Gender','Citizen']].head()"
   ]
  },
  {
   "cell_type": "code",
   "execution_count": 5210,
   "metadata": {},
   "outputs": [
    {
     "data": {
      "text/html": [
       "<div>\n",
       "<style scoped>\n",
       "    .dataframe tbody tr th:only-of-type {\n",
       "        vertical-align: middle;\n",
       "    }\n",
       "\n",
       "    .dataframe tbody tr th {\n",
       "        vertical-align: top;\n",
       "    }\n",
       "\n",
       "    .dataframe thead th {\n",
       "        text-align: right;\n",
       "    }\n",
       "</style>\n",
       "<table border=\"1\" class=\"dataframe\">\n",
       "  <thead>\n",
       "    <tr style=\"text-align: right;\">\n",
       "      <th></th>\n",
       "      <th>ID_Numbers</th>\n",
       "      <th>Date_Of_Birth</th>\n",
       "      <th>Gender</th>\n",
       "      <th>Citizen</th>\n",
       "    </tr>\n",
       "  </thead>\n",
       "  <tbody>\n",
       "    <tr>\n",
       "      <th>495</th>\n",
       "      <td>0311042600084</td>\n",
       "      <td>2003-11-04</td>\n",
       "      <td>Female</td>\n",
       "      <td>RSA</td>\n",
       "    </tr>\n",
       "    <tr>\n",
       "      <th>496</th>\n",
       "      <td>0107043118084</td>\n",
       "      <td>2001-07-04</td>\n",
       "      <td>Female</td>\n",
       "      <td>RSA</td>\n",
       "    </tr>\n",
       "    <tr>\n",
       "      <th>497</th>\n",
       "      <td>9708017449084</td>\n",
       "      <td>1997-08-01</td>\n",
       "      <td>Male</td>\n",
       "      <td>RSA</td>\n",
       "    </tr>\n",
       "    <tr>\n",
       "      <th>498</th>\n",
       "      <td>0008311063082</td>\n",
       "      <td>2000-08-31</td>\n",
       "      <td>Female</td>\n",
       "      <td>Other</td>\n",
       "    </tr>\n",
       "    <tr>\n",
       "      <th>499</th>\n",
       "      <td>9802125984085</td>\n",
       "      <td>1998-02-12</td>\n",
       "      <td>Male</td>\n",
       "      <td>Other</td>\n",
       "    </tr>\n",
       "  </tbody>\n",
       "</table>\n",
       "</div>"
      ],
      "text/plain": [
       "        ID_Numbers Date_Of_Birth  Gender Citizen\n",
       "495  0311042600084    2003-11-04  Female     RSA\n",
       "496  0107043118084    2001-07-04  Female     RSA\n",
       "497  9708017449084    1997-08-01    Male     RSA\n",
       "498  0008311063082    2000-08-31  Female   Other\n",
       "499  9802125984085    1998-02-12    Male   Other"
      ]
     },
     "execution_count": 5210,
     "metadata": {},
     "output_type": "execute_result"
    }
   ],
   "source": [
    "df_ID_no[['ID_Numbers','Date_Of_Birth','Gender','Citizen']].tail()"
   ]
  },
  {
   "cell_type": "markdown",
   "metadata": {},
   "source": [
    "### Check how many records belong to RSA Citizens compared to citizens from other countries "
   ]
  },
  {
   "cell_type": "code",
   "execution_count": 5211,
   "metadata": {},
   "outputs": [
    {
     "name": "stdout",
     "output_type": "stream",
     "text": [
      "230\n"
     ]
    }
   ],
   "source": [
    "RSA_Citizens = (df_ID_no['Citizen'] == 'RSA').sum()\n",
    "print(RSA_Citizens)\n"
   ]
  },
  {
   "cell_type": "code",
   "execution_count": 5212,
   "metadata": {},
   "outputs": [
    {
     "name": "stdout",
     "output_type": "stream",
     "text": [
      "270\n"
     ]
    }
   ],
   "source": [
    "Foriegn_Citizens = (df_ID_no['Citizen'] == 'Other').sum()\n",
    "print(Foriegn_Citizens)"
   ]
  },
  {
   "cell_type": "code",
   "execution_count": 5213,
   "metadata": {},
   "outputs": [],
   "source": [
    "sizes = [RSA_Citizens,Foriegn_Citizens]"
   ]
  },
  {
   "cell_type": "code",
   "execution_count": 5214,
   "metadata": {},
   "outputs": [],
   "source": [
    "citizenship_labels = ['RSA Citizen','Foriegn Citizen']"
   ]
  },
  {
   "cell_type": "code",
   "execution_count": 5215,
   "metadata": {},
   "outputs": [
    {
     "data": {
      "image/png": "[encoded data removed]",
      "text/plain": [
       "<Figure size 640x480 with 1 Axes>"
      ]
     },
     "metadata": {},
     "output_type": "display_data"
    }
   ],
   "source": [
    "plt.pie(sizes,labels=citizenship_labels,autopct='%1.1f%%',startangle=140)\n",
    "plt.title('Comparing Percentage of Foriegn Citizens versus RSA Citizens in Sample data')\n",
    "plt.show()"
   ]
  },
  {
   "cell_type": "markdown",
   "metadata": {},
   "source": [
    "### Compare Percentage of Malaes to female and Visualise findings"
   ]
  },
  {
   "cell_type": "code",
   "execution_count": 5216,
   "metadata": {},
   "outputs": [
    {
     "name": "stdout",
     "output_type": "stream",
     "text": [
      "Gender\n",
      "Male      252\n",
      "Female    248\n",
      "Name: count, dtype: int64\n"
     ]
    }
   ],
   "source": [
    "gender_size = df_ID_no['Gender'].value_counts()\n",
    "print(gender_size)"
   ]
  },
  {
   "cell_type": "code",
   "execution_count": 5217,
   "metadata": {},
   "outputs": [],
   "source": [
    "gender_labels = ['Males','Females']"
   ]
  },
  {
   "cell_type": "code",
   "execution_count": 5218,
   "metadata": {},
   "outputs": [
    {
     "data": {
      "image/png": "[encoded data removed]",
      "text/plain": [
       "<Figure size 640x480 with 1 Axes>"
      ]
     },
     "metadata": {},
     "output_type": "display_data"
    }
   ],
   "source": [
    "plt.pie(gender_size,labels=gender_labels,autopct='%1.1f%%',startangle=140)\n",
    "plt.title('Comparing Percentage of Males and Females in Sample data')\n",
    "plt.show()"
   ]
  }
 ],
 "metadata": {
  "kernelspec": {
   "display_name": "base",
   "language": "python",
   "name": "python3"
  },
  "language_info": {
   "codemirror_mode": {
    "name": "ipython",
    "version": 3
   },
   "file_extension": ".py",
   "mimetype": "text/x-python",
   "name": "python",
   "nbconvert_exporter": "python",
   "pygments_lexer": "ipython3",
   "version": "3.11.7"
  }
 },
 "nbformat": 4,
 "nbformat_minor": 2
}
