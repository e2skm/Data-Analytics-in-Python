{
 "cells": [
  {
   "cell_type": "markdown",
   "metadata": {},
   "source": [
    "# Web Scrapping Revision"
   ]
  },
  {
   "cell_type": "code",
   "execution_count": 1,
   "metadata": {},
   "outputs": [],
   "source": [
    "import requests"
   ]
  },
  {
   "cell_type": "code",
   "execution_count": 2,
   "metadata": {},
   "outputs": [],
   "source": [
    "from bs4 import BeautifulSoup"
   ]
  },
  {
   "cell_type": "code",
   "execution_count": 3,
   "metadata": {},
   "outputs": [],
   "source": [
    "response = requests.get('https://en.wikipedia.org/wiki/Rankings_of_universities_in_South_Africa')"
   ]
  },
  {
   "cell_type": "code",
   "execution_count": 4,
   "metadata": {},
   "outputs": [
    {
     "name": "stdout",
     "output_type": "stream",
     "text": [
      "My Nigga, My Gee!!!\n",
      "Unclean Universty Data: [[], [], [], ['University of the Witwatersrand', 'University of the Free State', 'Vaal University of Technology'], ['Stellenbosch University', 'University of KwaZulu-Natal', 'Central University of Technology'], ['University of Cape Town', 'North-West University', 'Durban University of Technology'], ['University of Pretoria', 'University of Fort Hare', 'Mangosuthu University of Technology'], ['Rhodes University', 'University of Limpopo', 'Tshwane University of Technology'], ['', 'University of the Western Cape', 'Cape Peninsula University of Technology'], ['', 'University of Johannesburg', 'University of Venda'], ['', 'Nelson Mandela Metropolitan University', 'Walter Sisulu University'], ['', 'University of Zululand', '']]\n",
      "Cleaned Data: [['University of the Witwatersrand', 'University of the Free State', 'Vaal University of Technology'], ['Stellenbosch University', 'University of KwaZulu-Natal', 'Central University of Technology'], ['University of Cape Town', 'North-West University', 'Durban University of Technology'], ['University of Pretoria', 'University of Fort Hare', 'Mangosuthu University of Technology'], ['Rhodes University', 'University of Limpopo', 'Tshwane University of Technology'], ['University of the Western Cape', 'Cape Peninsula University of Technology'], ['University of Johannesburg', 'University of Venda'], ['Nelson Mandela Metropolitan University', 'Walter Sisulu University'], ['University of Zululand']]\n",
      "Each University on its own index: ['University of the Witwatersrand', 'University of the Free State', 'Vaal University of Technology', 'Stellenbosch University', 'University of KwaZulu-Natal', 'Central University of Technology', 'University of Cape Town', 'North-West University', 'Durban University of Technology', 'University of Pretoria', 'University of Fort Hare', 'Mangosuthu University of Technology', 'Rhodes University', 'University of Limpopo', 'Tshwane University of Technology', 'University of the Western Cape', 'Cape Peninsula University of Technology', 'University of Johannesburg', 'University of Venda', 'Nelson Mandela Metropolitan University', 'Walter Sisulu University', 'University of Zululand']\n",
      "\n",
      "Title: South African University Clusters\n",
      "Category: Red Cluster - Top Research-Intensive Universities\n",
      "Universities: ['University of the Witwatersrand', 'Stellenbosch University', 'University of Cape Town', 'University of Pretoria', 'Rhodes University']\n",
      "Category: Green Cluster - Technical Training\n",
      "Universities: ['University of the Free State', 'University of KwaZulu-Natal', 'North-West University', 'University of Fort Hare', 'University of Limpopo', 'University of the Western Cape', 'University of Johannesburg', 'Nelson Mandela Metropolitan University', 'University of Zululand']\n",
      "Category: Blue Cluster - Research-Intensive Universities & Technical Training\n",
      "Universities: ['Vaal University of Technology', 'Central University of Technology', 'Durban University of Technology', 'Mangosuthu University of Technology', 'Tshwane University of Technology', 'Cape Peninsula University of Technology', 'University of Venda', 'Walter Sisulu University']\n"
     ]
    }
   ],
   "source": [
    "if response.status_code == 200:\n",
    "    print('My Nigga, My Gee!!!')\n",
    "\n",
    "    soup = BeautifulSoup(response.content, 'html.parser')\n",
    "\n",
    "    tables = soup.find_all('table', {'class': 'wikitable'})\n",
    "\n",
    "    selected_table = tables[0] \n",
    "\n",
    "    headers = [header.text.strip() for header in selected_table.find_all('th')]\n",
    "    rows = selected_table.find_all('tr')\n",
    "    \n",
    "    table_data = []\n",
    "    for row in rows:\n",
    "        columns = row.find_all('td')\n",
    "        table_data.append([column.text.strip() for column in columns])\n",
    "    \n",
    "    print('Unclean Universty Data:', table_data)\n",
    "\n",
    "    cleaned_table_data = []\n",
    "    for row in table_data:\n",
    "         cleaned_row = [item for item in row if item] \n",
    "         if cleaned_row:  \n",
    "             cleaned_table_data.append(cleaned_row)     \n",
    "    print('Cleaned Data:', cleaned_table_data)  \n",
    "    \n",
    "    cleaned_table_data = [university for row in cleaned_table_data for university in row]\n",
    "    print('Each University on its own index:', cleaned_table_data)\n",
    "    \n",
    "    cat1 = [cleaned_table_data[0]]\n",
    "    cat1.extend([cleaned_table_data[3], cleaned_table_data[6], cleaned_table_data[9], cleaned_table_data[12]])\n",
    "    cat2 = [cleaned_table_data[1]]\n",
    "    cat2.extend([cleaned_table_data[4], cleaned_table_data[7], cleaned_table_data[10], cleaned_table_data[13],\n",
    "                 cleaned_table_data[15], cleaned_table_data[17], cleaned_table_data[19], cleaned_table_data[21]])\n",
    "    cat3 = [cleaned_table_data[2]]\n",
    "    cat3.extend([ cleaned_table_data[5], cleaned_table_data[8], cleaned_table_data[11],  cleaned_table_data[14]\n",
    "                 ,cleaned_table_data[16],cleaned_table_data[18], cleaned_table_data[20]])\n",
    "        \n",
    "    print('\\nTitle:', headers[0])\n",
    "    print('Category:',headers[1],'-', headers[4])\n",
    "    print('Universities:', cat1)\n",
    "    print('Category:',headers[2],'-', headers[5])\n",
    "    print('Universities:', cat2)\n",
    "    print('Category:',headers[3],'-', headers[6])\n",
    "    print('Universities:', cat3)\n",
    "    \n",
    "    \n",
    "else:\n",
    "    print('Failed to retrieve the page')"
   ]
  },
  {
   "cell_type": "code",
   "execution_count": null,
   "metadata": {},
   "outputs": [],
   "source": []
  }
 ],
 "metadata": {
  "kernelspec": {
   "display_name": "base",
   "language": "python",
   "name": "python3"
  },
  "language_info": {
   "codemirror_mode": {
    "name": "ipython",
    "version": 3
   },
   "file_extension": ".py",
   "mimetype": "text/x-python",
   "name": "python",
   "nbconvert_exporter": "python",
   "pygments_lexer": "ipython3",
   "version": "3.11.7"
  }
 },
 "nbformat": 4,
 "nbformat_minor": 2
}
