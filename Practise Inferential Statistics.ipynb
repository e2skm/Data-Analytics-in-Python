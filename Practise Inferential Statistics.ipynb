{
 "cells": [
  {
   "cell_type": "markdown",
   "metadata": {},
   "source": [
    "# Practise Inferential Statistics"
   ]
  },
  {
   "cell_type": "markdown",
   "metadata": {},
   "source": [
    "## Importing all the necessary Liabraries"
   ]
  },
  {
   "cell_type": "code",
   "execution_count": 478,
   "metadata": {},
   "outputs": [],
   "source": [
    "import pandas as pd"
   ]
  },
  {
   "cell_type": "code",
   "execution_count": 479,
   "metadata": {},
   "outputs": [],
   "source": [
    "import numpy as np"
   ]
  },
  {
   "cell_type": "code",
   "execution_count": 480,
   "metadata": {},
   "outputs": [],
   "source": [
    "import matplotlib.pyplot as plt"
   ]
  },
  {
   "cell_type": "code",
   "execution_count": 481,
   "metadata": {},
   "outputs": [],
   "source": [
    "from scipy import stats"
   ]
  },
  {
   "cell_type": "code",
   "execution_count": 482,
   "metadata": {},
   "outputs": [],
   "source": [
    "from scipy.stats import chi2_contingency"
   ]
  },
  {
   "cell_type": "code",
   "execution_count": 483,
   "metadata": {},
   "outputs": [],
   "source": [
    "from sklearn.linear_model import LinearRegression"
   ]
  },
  {
   "cell_type": "markdown",
   "metadata": {},
   "source": [
    "## Sample Data for practise"
   ]
  },
  {
   "cell_type": "code",
   "execution_count": 484,
   "metadata": {},
   "outputs": [],
   "source": [
    "np.random.seed(3)"
   ]
  },
  {
   "cell_type": "code",
   "execution_count": 485,
   "metadata": {},
   "outputs": [],
   "source": [
    "numOfObservations = 350"
   ]
  },
  {
   "cell_type": "code",
   "execution_count": 486,
   "metadata": {},
   "outputs": [],
   "source": [
    "ages = np.random.randint(18,35,numOfObservations)"
   ]
  },
  {
   "cell_type": "code",
   "execution_count": 487,
   "metadata": {},
   "outputs": [],
   "source": [
    "genders = np.random.choice(['Male','Female','TransMale','TransFemale','Other'],numOfObservations)"
   ]
  },
  {
   "cell_type": "code",
   "execution_count": 488,
   "metadata": {},
   "outputs": [],
   "source": [
    "annual_income = np.random.normal(55000,15500,numOfObservations).round(2)"
   ]
  },
  {
   "cell_type": "code",
   "execution_count": 489,
   "metadata": {},
   "outputs": [],
   "source": [
    "educational_level = np.random.choice(['Matric','Diploma', 'Advanced Diploma(B-Tech)','Bachelor','Masters'],numOfObservations,p=[0.25,0.35,0.2,0.15,0.05])"
   ]
  },
  {
   "cell_type": "code",
   "execution_count": 490,
   "metadata": {},
   "outputs": [],
   "source": [
    "test_scores = np.random.normal(80,20,numOfObservations).round(2)"
   ]
  },
  {
   "cell_type": "markdown",
   "metadata": {},
   "source": [
    "## Load into DataFrame"
   ]
  },
  {
   "cell_type": "code",
   "execution_count": 491,
   "metadata": {},
   "outputs": [
    {
     "data": {
      "text/html": [
       "<div>\n",
       "<style scoped>\n",
       "    .dataframe tbody tr th:only-of-type {\n",
       "        vertical-align: middle;\n",
       "    }\n",
       "\n",
       "    .dataframe tbody tr th {\n",
       "        vertical-align: top;\n",
       "    }\n",
       "\n",
       "    .dataframe thead th {\n",
       "        text-align: right;\n",
       "    }\n",
       "</style>\n",
       "<table border=\"1\" class=\"dataframe\">\n",
       "  <thead>\n",
       "    <tr style=\"text-align: right;\">\n",
       "      <th></th>\n",
       "      <th>Age</th>\n",
       "      <th>Gender</th>\n",
       "      <th>AnnualIncome</th>\n",
       "      <th>EducationalLevel</th>\n",
       "      <th>TestScore</th>\n",
       "    </tr>\n",
       "  </thead>\n",
       "  <tbody>\n",
       "    <tr>\n",
       "      <th>0</th>\n",
       "      <td>28</td>\n",
       "      <td>TransFemale</td>\n",
       "      <td>38201.61</td>\n",
       "      <td>Matric</td>\n",
       "      <td>57.32</td>\n",
       "    </tr>\n",
       "    <tr>\n",
       "      <th>1</th>\n",
       "      <td>21</td>\n",
       "      <td>Male</td>\n",
       "      <td>60129.93</td>\n",
       "      <td>Diploma</td>\n",
       "      <td>93.49</td>\n",
       "    </tr>\n",
       "    <tr>\n",
       "      <th>2</th>\n",
       "      <td>26</td>\n",
       "      <td>Female</td>\n",
       "      <td>37313.90</td>\n",
       "      <td>Matric</td>\n",
       "      <td>73.16</td>\n",
       "    </tr>\n",
       "    <tr>\n",
       "      <th>3</th>\n",
       "      <td>18</td>\n",
       "      <td>TransMale</td>\n",
       "      <td>23794.51</td>\n",
       "      <td>Diploma</td>\n",
       "      <td>59.85</td>\n",
       "    </tr>\n",
       "    <tr>\n",
       "      <th>4</th>\n",
       "      <td>28</td>\n",
       "      <td>Other</td>\n",
       "      <td>63008.69</td>\n",
       "      <td>Matric</td>\n",
       "      <td>87.27</td>\n",
       "    </tr>\n",
       "    <tr>\n",
       "      <th>...</th>\n",
       "      <td>...</td>\n",
       "      <td>...</td>\n",
       "      <td>...</td>\n",
       "      <td>...</td>\n",
       "      <td>...</td>\n",
       "    </tr>\n",
       "    <tr>\n",
       "      <th>345</th>\n",
       "      <td>24</td>\n",
       "      <td>Female</td>\n",
       "      <td>47256.67</td>\n",
       "      <td>Bachelor</td>\n",
       "      <td>74.49</td>\n",
       "    </tr>\n",
       "    <tr>\n",
       "      <th>346</th>\n",
       "      <td>31</td>\n",
       "      <td>Male</td>\n",
       "      <td>71494.37</td>\n",
       "      <td>Bachelor</td>\n",
       "      <td>41.10</td>\n",
       "    </tr>\n",
       "    <tr>\n",
       "      <th>347</th>\n",
       "      <td>33</td>\n",
       "      <td>TransFemale</td>\n",
       "      <td>63526.46</td>\n",
       "      <td>Matric</td>\n",
       "      <td>69.86</td>\n",
       "    </tr>\n",
       "    <tr>\n",
       "      <th>348</th>\n",
       "      <td>26</td>\n",
       "      <td>Female</td>\n",
       "      <td>43967.29</td>\n",
       "      <td>Advanced Diploma(B-Tech)</td>\n",
       "      <td>45.66</td>\n",
       "    </tr>\n",
       "    <tr>\n",
       "      <th>349</th>\n",
       "      <td>33</td>\n",
       "      <td>Other</td>\n",
       "      <td>61406.43</td>\n",
       "      <td>Diploma</td>\n",
       "      <td>118.03</td>\n",
       "    </tr>\n",
       "  </tbody>\n",
       "</table>\n",
       "<p>350 rows × 5 columns</p>\n",
       "</div>"
      ],
      "text/plain": [
       "     Age       Gender  AnnualIncome          EducationalLevel  TestScore\n",
       "0     28  TransFemale      38201.61                    Matric      57.32\n",
       "1     21         Male      60129.93                   Diploma      93.49\n",
       "2     26       Female      37313.90                    Matric      73.16\n",
       "3     18    TransMale      23794.51                   Diploma      59.85\n",
       "4     28        Other      63008.69                    Matric      87.27\n",
       "..   ...          ...           ...                       ...        ...\n",
       "345   24       Female      47256.67                  Bachelor      74.49\n",
       "346   31         Male      71494.37                  Bachelor      41.10\n",
       "347   33  TransFemale      63526.46                    Matric      69.86\n",
       "348   26       Female      43967.29  Advanced Diploma(B-Tech)      45.66\n",
       "349   33        Other      61406.43                   Diploma     118.03\n",
       "\n",
       "[350 rows x 5 columns]"
      ]
     },
     "execution_count": 491,
     "metadata": {},
     "output_type": "execute_result"
    }
   ],
   "source": [
    "data = {\n",
    "  'Age': ages,\n",
    "  'Gender': genders,\n",
    "  'AnnualIncome': annual_income,\n",
    "  'EducationalLevel': educational_level,\n",
    "  'TestScore': test_scores\n",
    "}\n",
    "df = pd.DataFrame(data)\n",
    "df"
   ]
  },
  {
   "cell_type": "markdown",
   "metadata": {},
   "source": [
    "## Convert to CSV"
   ]
  },
  {
   "cell_type": "code",
   "execution_count": 492,
   "metadata": {},
   "outputs": [
    {
     "name": "stdout",
     "output_type": "stream",
     "text": [
      "Congratulations MR Sekoma You are done with the first step, keep in mind that you still have a long way to go NIGGER!!!\n"
     ]
    }
   ],
   "source": [
    "df.to_csv(r'C:\\Users\\Itumeleng.Sekoma\\Desktop\\Test777777\\.ipynb_checkpoints\\sample_inferential_statistics_data.csv',index=False)\n",
    "print(\"Congratulations MR Sekoma You are done with the first step, keep in mind that you still have a long way to go NIGGER!!!\")"
   ]
  },
  {
   "cell_type": "markdown",
   "metadata": {},
   "source": [
    "## Load CSV file containing Sample data"
   ]
  },
  {
   "cell_type": "code",
   "execution_count": 493,
   "metadata": {},
   "outputs": [],
   "source": [
    "sample_inferential_stats_df = pd.read_csv(r'C:\\Users\\Itumeleng.Sekoma\\Desktop\\Test777777\\.ipynb_checkpoints\\sample_inferential_statistics_data.csv')"
   ]
  },
  {
   "cell_type": "markdown",
   "metadata": {},
   "source": [
    "## Inspect Data "
   ]
  },
  {
   "cell_type": "code",
   "execution_count": 494,
   "metadata": {},
   "outputs": [
    {
     "data": {
      "text/html": [
       "<div>\n",
       "<style scoped>\n",
       "    .dataframe tbody tr th:only-of-type {\n",
       "        vertical-align: middle;\n",
       "    }\n",
       "\n",
       "    .dataframe tbody tr th {\n",
       "        vertical-align: top;\n",
       "    }\n",
       "\n",
       "    .dataframe thead th {\n",
       "        text-align: right;\n",
       "    }\n",
       "</style>\n",
       "<table border=\"1\" class=\"dataframe\">\n",
       "  <thead>\n",
       "    <tr style=\"text-align: right;\">\n",
       "      <th></th>\n",
       "      <th>Age</th>\n",
       "      <th>Gender</th>\n",
       "      <th>AnnualIncome</th>\n",
       "      <th>EducationalLevel</th>\n",
       "      <th>TestScore</th>\n",
       "    </tr>\n",
       "  </thead>\n",
       "  <tbody>\n",
       "    <tr>\n",
       "      <th>0</th>\n",
       "      <td>28</td>\n",
       "      <td>TransFemale</td>\n",
       "      <td>38201.61</td>\n",
       "      <td>Matric</td>\n",
       "      <td>57.32</td>\n",
       "    </tr>\n",
       "    <tr>\n",
       "      <th>1</th>\n",
       "      <td>21</td>\n",
       "      <td>Male</td>\n",
       "      <td>60129.93</td>\n",
       "      <td>Diploma</td>\n",
       "      <td>93.49</td>\n",
       "    </tr>\n",
       "    <tr>\n",
       "      <th>2</th>\n",
       "      <td>26</td>\n",
       "      <td>Female</td>\n",
       "      <td>37313.90</td>\n",
       "      <td>Matric</td>\n",
       "      <td>73.16</td>\n",
       "    </tr>\n",
       "    <tr>\n",
       "      <th>3</th>\n",
       "      <td>18</td>\n",
       "      <td>TransMale</td>\n",
       "      <td>23794.51</td>\n",
       "      <td>Diploma</td>\n",
       "      <td>59.85</td>\n",
       "    </tr>\n",
       "    <tr>\n",
       "      <th>4</th>\n",
       "      <td>28</td>\n",
       "      <td>Other</td>\n",
       "      <td>63008.69</td>\n",
       "      <td>Matric</td>\n",
       "      <td>87.27</td>\n",
       "    </tr>\n",
       "  </tbody>\n",
       "</table>\n",
       "</div>"
      ],
      "text/plain": [
       "   Age       Gender  AnnualIncome EducationalLevel  TestScore\n",
       "0   28  TransFemale      38201.61           Matric      57.32\n",
       "1   21         Male      60129.93          Diploma      93.49\n",
       "2   26       Female      37313.90           Matric      73.16\n",
       "3   18    TransMale      23794.51          Diploma      59.85\n",
       "4   28        Other      63008.69           Matric      87.27"
      ]
     },
     "execution_count": 494,
     "metadata": {},
     "output_type": "execute_result"
    }
   ],
   "source": [
    "sample_inferential_stats_df.head()"
   ]
  },
  {
   "cell_type": "code",
   "execution_count": 495,
   "metadata": {},
   "outputs": [
    {
     "data": {
      "text/html": [
       "<div>\n",
       "<style scoped>\n",
       "    .dataframe tbody tr th:only-of-type {\n",
       "        vertical-align: middle;\n",
       "    }\n",
       "\n",
       "    .dataframe tbody tr th {\n",
       "        vertical-align: top;\n",
       "    }\n",
       "\n",
       "    .dataframe thead th {\n",
       "        text-align: right;\n",
       "    }\n",
       "</style>\n",
       "<table border=\"1\" class=\"dataframe\">\n",
       "  <thead>\n",
       "    <tr style=\"text-align: right;\">\n",
       "      <th></th>\n",
       "      <th>Age</th>\n",
       "      <th>Gender</th>\n",
       "      <th>AnnualIncome</th>\n",
       "      <th>EducationalLevel</th>\n",
       "      <th>TestScore</th>\n",
       "    </tr>\n",
       "  </thead>\n",
       "  <tbody>\n",
       "    <tr>\n",
       "      <th>345</th>\n",
       "      <td>24</td>\n",
       "      <td>Female</td>\n",
       "      <td>47256.67</td>\n",
       "      <td>Bachelor</td>\n",
       "      <td>74.49</td>\n",
       "    </tr>\n",
       "    <tr>\n",
       "      <th>346</th>\n",
       "      <td>31</td>\n",
       "      <td>Male</td>\n",
       "      <td>71494.37</td>\n",
       "      <td>Bachelor</td>\n",
       "      <td>41.10</td>\n",
       "    </tr>\n",
       "    <tr>\n",
       "      <th>347</th>\n",
       "      <td>33</td>\n",
       "      <td>TransFemale</td>\n",
       "      <td>63526.46</td>\n",
       "      <td>Matric</td>\n",
       "      <td>69.86</td>\n",
       "    </tr>\n",
       "    <tr>\n",
       "      <th>348</th>\n",
       "      <td>26</td>\n",
       "      <td>Female</td>\n",
       "      <td>43967.29</td>\n",
       "      <td>Advanced Diploma(B-Tech)</td>\n",
       "      <td>45.66</td>\n",
       "    </tr>\n",
       "    <tr>\n",
       "      <th>349</th>\n",
       "      <td>33</td>\n",
       "      <td>Other</td>\n",
       "      <td>61406.43</td>\n",
       "      <td>Diploma</td>\n",
       "      <td>118.03</td>\n",
       "    </tr>\n",
       "  </tbody>\n",
       "</table>\n",
       "</div>"
      ],
      "text/plain": [
       "     Age       Gender  AnnualIncome          EducationalLevel  TestScore\n",
       "345   24       Female      47256.67                  Bachelor      74.49\n",
       "346   31         Male      71494.37                  Bachelor      41.10\n",
       "347   33  TransFemale      63526.46                    Matric      69.86\n",
       "348   26       Female      43967.29  Advanced Diploma(B-Tech)      45.66\n",
       "349   33        Other      61406.43                   Diploma     118.03"
      ]
     },
     "execution_count": 495,
     "metadata": {},
     "output_type": "execute_result"
    }
   ],
   "source": [
    "sample_inferential_stats_df.tail()"
   ]
  },
  {
   "cell_type": "code",
   "execution_count": 496,
   "metadata": {},
   "outputs": [
    {
     "data": {
      "text/html": [
       "<div>\n",
       "<style scoped>\n",
       "    .dataframe tbody tr th:only-of-type {\n",
       "        vertical-align: middle;\n",
       "    }\n",
       "\n",
       "    .dataframe tbody tr th {\n",
       "        vertical-align: top;\n",
       "    }\n",
       "\n",
       "    .dataframe thead th {\n",
       "        text-align: right;\n",
       "    }\n",
       "</style>\n",
       "<table border=\"1\" class=\"dataframe\">\n",
       "  <thead>\n",
       "    <tr style=\"text-align: right;\">\n",
       "      <th></th>\n",
       "      <th>Age</th>\n",
       "      <th>AnnualIncome</th>\n",
       "      <th>TestScore</th>\n",
       "    </tr>\n",
       "  </thead>\n",
       "  <tbody>\n",
       "    <tr>\n",
       "      <th>count</th>\n",
       "      <td>350.000000</td>\n",
       "      <td>350.000000</td>\n",
       "      <td>350.000000</td>\n",
       "    </tr>\n",
       "    <tr>\n",
       "      <th>mean</th>\n",
       "      <td>25.771429</td>\n",
       "      <td>55083.673257</td>\n",
       "      <td>79.868229</td>\n",
       "    </tr>\n",
       "    <tr>\n",
       "      <th>std</th>\n",
       "      <td>5.014510</td>\n",
       "      <td>15502.806476</td>\n",
       "      <td>20.102722</td>\n",
       "    </tr>\n",
       "    <tr>\n",
       "      <th>min</th>\n",
       "      <td>18.000000</td>\n",
       "      <td>10024.790000</td>\n",
       "      <td>20.660000</td>\n",
       "    </tr>\n",
       "    <tr>\n",
       "      <th>25%</th>\n",
       "      <td>21.000000</td>\n",
       "      <td>45317.897500</td>\n",
       "      <td>66.445000</td>\n",
       "    </tr>\n",
       "    <tr>\n",
       "      <th>50%</th>\n",
       "      <td>26.000000</td>\n",
       "      <td>55343.780000</td>\n",
       "      <td>78.705000</td>\n",
       "    </tr>\n",
       "    <tr>\n",
       "      <th>75%</th>\n",
       "      <td>30.000000</td>\n",
       "      <td>64546.470000</td>\n",
       "      <td>93.542500</td>\n",
       "    </tr>\n",
       "    <tr>\n",
       "      <th>max</th>\n",
       "      <td>34.000000</td>\n",
       "      <td>101927.510000</td>\n",
       "      <td>137.310000</td>\n",
       "    </tr>\n",
       "  </tbody>\n",
       "</table>\n",
       "</div>"
      ],
      "text/plain": [
       "              Age   AnnualIncome   TestScore\n",
       "count  350.000000     350.000000  350.000000\n",
       "mean    25.771429   55083.673257   79.868229\n",
       "std      5.014510   15502.806476   20.102722\n",
       "min     18.000000   10024.790000   20.660000\n",
       "25%     21.000000   45317.897500   66.445000\n",
       "50%     26.000000   55343.780000   78.705000\n",
       "75%     30.000000   64546.470000   93.542500\n",
       "max     34.000000  101927.510000  137.310000"
      ]
     },
     "execution_count": 496,
     "metadata": {},
     "output_type": "execute_result"
    }
   ],
   "source": [
    "sample_inferential_stats_df.describe()"
   ]
  },
  {
   "cell_type": "code",
   "execution_count": 497,
   "metadata": {},
   "outputs": [
    {
     "name": "stdout",
     "output_type": "stream",
     "text": [
      "This Data set contains: 5  Fields  and  350  Records\n"
     ]
    }
   ],
   "source": [
    "print(\"This Data set contains:\", sample_inferential_stats_df.shape[1],\" Fields\",\" and \", sample_inferential_stats_df.shape[0], \" Records\")"
   ]
  },
  {
   "cell_type": "code",
   "execution_count": 498,
   "metadata": {},
   "outputs": [
    {
     "name": "stdout",
     "output_type": "stream",
     "text": [
      "<class 'pandas.core.frame.DataFrame'>\n",
      "RangeIndex: 350 entries, 0 to 349\n",
      "Data columns (total 5 columns):\n",
      " #   Column            Non-Null Count  Dtype  \n",
      "---  ------            --------------  -----  \n",
      " 0   Age               350 non-null    int64  \n",
      " 1   Gender            350 non-null    object \n",
      " 2   AnnualIncome      350 non-null    float64\n",
      " 3   EducationalLevel  350 non-null    object \n",
      " 4   TestScore         350 non-null    float64\n",
      "dtypes: float64(2), int64(1), object(2)\n",
      "memory usage: 13.8+ KB\n"
     ]
    }
   ],
   "source": [
    "sample_inferential_stats_df.info()"
   ]
  },
  {
   "cell_type": "markdown",
   "metadata": {},
   "source": [
    "## Cleaning "
   ]
  },
  {
   "cell_type": "code",
   "execution_count": 499,
   "metadata": {},
   "outputs": [
    {
     "name": "stdout",
     "output_type": "stream",
     "text": [
      "45317.8975\n"
     ]
    }
   ],
   "source": [
    "q1 = sample_inferential_stats_df['AnnualIncome'].quantile(0.25)\n",
    "print(q1)"
   ]
  },
  {
   "cell_type": "code",
   "execution_count": 500,
   "metadata": {},
   "outputs": [
    {
     "name": "stdout",
     "output_type": "stream",
     "text": [
      "64546.47\n"
     ]
    }
   ],
   "source": [
    "q3 = sample_inferential_stats_df['AnnualIncome'].quantile(0.75)\n",
    "print(q3)"
   ]
  },
  {
   "cell_type": "code",
   "execution_count": 501,
   "metadata": {},
   "outputs": [
    {
     "name": "stdout",
     "output_type": "stream",
     "text": [
      "19228.57\n"
     ]
    }
   ],
   "source": [
    "iqr = round(q3 - q1,2)\n",
    "print(iqr)"
   ]
  },
  {
   "cell_type": "code",
   "execution_count": 502,
   "metadata": {},
   "outputs": [
    {
     "name": "stdout",
     "output_type": "stream",
     "text": [
      "16475.04\n"
     ]
    }
   ],
   "source": [
    "lower_bound = round(q1 - 1.5 * iqr,2)\n",
    "print(lower_bound)"
   ]
  },
  {
   "cell_type": "code",
   "execution_count": 503,
   "metadata": {},
   "outputs": [
    {
     "name": "stdout",
     "output_type": "stream",
     "text": [
      "93389.32\n"
     ]
    }
   ],
   "source": [
    "upper_bound = round(q3 + 1.5 * iqr, 2)\n",
    "print(upper_bound)"
   ]
  },
  {
   "cell_type": "code",
   "execution_count": 504,
   "metadata": {},
   "outputs": [
    {
     "name": "stdout",
     "output_type": "stream",
     "text": [
      "There are  7  Outliers identified\n"
     ]
    }
   ],
   "source": [
    "outliers = sample_inferential_stats_df[(sample_inferential_stats_df['AnnualIncome'] < lower_bound) |(sample_inferential_stats_df['AnnualIncome'] > upper_bound)]\n",
    "print(\"There are \",outliers.shape[0],\" Outliers identified\")"
   ]
  },
  {
   "cell_type": "markdown",
   "metadata": {},
   "source": [
    "## Remove outliers "
   ]
  },
  {
   "cell_type": "code",
   "execution_count": 505,
   "metadata": {},
   "outputs": [
    {
     "name": "stdout",
     "output_type": "stream",
     "text": [
      "Now that we have removed the  7  outliers, we have kept  343  observations in our cleaned dataset, from the original  350  records\n"
     ]
    }
   ],
   "source": [
    "cleaned_sample_inferential_stats_df = sample_inferential_stats_df.drop(outliers.index)\n",
    "print(\"Now that we have removed the \", outliers.shape[0],\" outliers, we have kept \",cleaned_sample_inferential_stats_df.shape[0],\" observations in our cleaned dataset, from the original \",sample_inferential_stats_df.shape[0],\" records\")"
   ]
  },
  {
   "cell_type": "markdown",
   "metadata": {},
   "source": [
    "# I will now attempt to perfrom inferential statistics inshallah\n"
   ]
  },
  {
   "cell_type": "markdown",
   "metadata": {},
   "source": []
  },
  {
   "cell_type": "code",
   "execution_count": null,
   "metadata": {},
   "outputs": [],
   "source": []
  }
 ],
 "metadata": {
  "kernelspec": {
   "display_name": "base",
   "language": "python",
   "name": "python3"
  },
  "language_info": {
   "codemirror_mode": {
    "name": "ipython",
    "version": 3
   },
   "file_extension": ".py",
   "mimetype": "text/x-python",
   "name": "python",
   "nbconvert_exporter": "python",
   "pygments_lexer": "ipython3",
   "version": "3.11.7"
  }
 },
 "nbformat": 4,
 "nbformat_minor": 2
}
