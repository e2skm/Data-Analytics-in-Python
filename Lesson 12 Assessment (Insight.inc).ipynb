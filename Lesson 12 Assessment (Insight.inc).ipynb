{
 "cells": [
  {
   "cell_type": "markdown",
   "metadata": {},
   "source": [
    "# Lesson 12 Assessment (Insight.inc)"
   ]
  },
  {
   "cell_type": "markdown",
   "metadata": {},
   "source": [
    "## Import the Necessary Liabraries"
   ]
  },
  {
   "cell_type": "code",
   "execution_count": 1,
   "metadata": {},
   "outputs": [],
   "source": [
    "import matplotlib.pyplot as plt"
   ]
  },
  {
   "cell_type": "code",
   "execution_count": 2,
   "metadata": {},
   "outputs": [],
   "source": [
    "import pandas as pd"
   ]
  },
  {
   "cell_type": "code",
   "execution_count": 3,
   "metadata": {},
   "outputs": [],
   "source": [
    "import seaborn as sns"
   ]
  },
  {
   "cell_type": "markdown",
   "metadata": {},
   "source": [
    "## Load and inspect the data set"
   ]
  },
  {
   "cell_type": "code",
   "execution_count": 4,
   "metadata": {},
   "outputs": [
    {
     "data": {
      "text/html": [
       "<div>\n",
       "<style scoped>\n",
       "    .dataframe tbody tr th:only-of-type {\n",
       "        vertical-align: middle;\n",
       "    }\n",
       "\n",
       "    .dataframe tbody tr th {\n",
       "        vertical-align: top;\n",
       "    }\n",
       "\n",
       "    .dataframe thead th {\n",
       "        text-align: right;\n",
       "    }\n",
       "</style>\n",
       "<table border=\"1\" class=\"dataframe\">\n",
       "  <thead>\n",
       "    <tr style=\"text-align: right;\">\n",
       "      <th></th>\n",
       "      <th>Date</th>\n",
       "      <th>Customer_ID</th>\n",
       "      <th>Product</th>\n",
       "      <th>Rating</th>\n",
       "      <th>Feedback</th>\n",
       "    </tr>\n",
       "  </thead>\n",
       "  <tbody>\n",
       "    <tr>\n",
       "      <th>0</th>\n",
       "      <td>2023-11-16</td>\n",
       "      <td>1414</td>\n",
       "      <td>Product B</td>\n",
       "      <td>2</td>\n",
       "      <td>Great product, very satisfied!</td>\n",
       "    </tr>\n",
       "    <tr>\n",
       "      <th>1</th>\n",
       "      <td>2023-07-14</td>\n",
       "      <td>1365</td>\n",
       "      <td>Product A</td>\n",
       "      <td>1</td>\n",
       "      <td>Excellent quality, highly recommend!</td>\n",
       "    </tr>\n",
       "    <tr>\n",
       "      <th>2</th>\n",
       "      <td>2023-09-22</td>\n",
       "      <td>1855</td>\n",
       "      <td>Product A</td>\n",
       "      <td>2</td>\n",
       "      <td>Great product, very satisfied!</td>\n",
       "    </tr>\n",
       "    <tr>\n",
       "      <th>3</th>\n",
       "      <td>2022-07-12</td>\n",
       "      <td>1738</td>\n",
       "      <td>Product D</td>\n",
       "      <td>5</td>\n",
       "      <td>Not bad, but could be better.</td>\n",
       "    </tr>\n",
       "    <tr>\n",
       "      <th>4</th>\n",
       "      <td>2023-12-09</td>\n",
       "      <td>1419</td>\n",
       "      <td>Product E</td>\n",
       "      <td>1</td>\n",
       "      <td>Worst product ever, very disappointed.</td>\n",
       "    </tr>\n",
       "  </tbody>\n",
       "</table>\n",
       "</div>"
      ],
      "text/plain": [
       "         Date  Customer_ID    Product  Rating  \\\n",
       "0  2023-11-16         1414  Product B       2   \n",
       "1  2023-07-14         1365  Product A       1   \n",
       "2  2023-09-22         1855  Product A       2   \n",
       "3  2022-07-12         1738  Product D       5   \n",
       "4  2023-12-09         1419  Product E       1   \n",
       "\n",
       "                                 Feedback  \n",
       "0          Great product, very satisfied!  \n",
       "1    Excellent quality, highly recommend!  \n",
       "2          Great product, very satisfied!  \n",
       "3           Not bad, but could be better.  \n",
       "4  Worst product ever, very disappointed.  "
      ]
     },
     "execution_count": 4,
     "metadata": {},
     "output_type": "execute_result"
    }
   ],
   "source": [
    "cust_feedback_df = pd.read_csv(r'C:\\Users\\Itumeleng.Sekoma\\Desktop\\Test777777\\.ipynb_checkpoints\\customer_feedback.csv')\n",
    "cust_feedback_df.head()"
   ]
  },
  {
   "cell_type": "code",
   "execution_count": 5,
   "metadata": {},
   "outputs": [
    {
     "data": {
      "text/html": [
       "<div>\n",
       "<style scoped>\n",
       "    .dataframe tbody tr th:only-of-type {\n",
       "        vertical-align: middle;\n",
       "    }\n",
       "\n",
       "    .dataframe tbody tr th {\n",
       "        vertical-align: top;\n",
       "    }\n",
       "\n",
       "    .dataframe thead th {\n",
       "        text-align: right;\n",
       "    }\n",
       "</style>\n",
       "<table border=\"1\" class=\"dataframe\">\n",
       "  <thead>\n",
       "    <tr style=\"text-align: right;\">\n",
       "      <th></th>\n",
       "      <th>Date</th>\n",
       "      <th>Customer_ID</th>\n",
       "      <th>Product</th>\n",
       "      <th>Rating</th>\n",
       "      <th>Feedback</th>\n",
       "    </tr>\n",
       "  </thead>\n",
       "  <tbody>\n",
       "    <tr>\n",
       "      <th>495</th>\n",
       "      <td>2023-12-04</td>\n",
       "      <td>1209</td>\n",
       "      <td>Product D</td>\n",
       "      <td>2</td>\n",
       "      <td>Fantastic, exceeded my expectations!</td>\n",
       "    </tr>\n",
       "    <tr>\n",
       "      <th>496</th>\n",
       "      <td>2023-06-01</td>\n",
       "      <td>1691</td>\n",
       "      <td>Product D</td>\n",
       "      <td>2</td>\n",
       "      <td>Not bad, but could be better.</td>\n",
       "    </tr>\n",
       "    <tr>\n",
       "      <th>497</th>\n",
       "      <td>2023-05-13</td>\n",
       "      <td>1296</td>\n",
       "      <td>Product A</td>\n",
       "      <td>5</td>\n",
       "      <td>Not bad, but could be better.</td>\n",
       "    </tr>\n",
       "    <tr>\n",
       "      <th>498</th>\n",
       "      <td>2023-05-14</td>\n",
       "      <td>1059</td>\n",
       "      <td>Product A</td>\n",
       "      <td>3</td>\n",
       "      <td>Not worth the price.</td>\n",
       "    </tr>\n",
       "    <tr>\n",
       "      <th>499</th>\n",
       "      <td>2022-07-25</td>\n",
       "      <td>1490</td>\n",
       "      <td>Product A</td>\n",
       "      <td>4</td>\n",
       "      <td>Terrible customer service.</td>\n",
       "    </tr>\n",
       "  </tbody>\n",
       "</table>\n",
       "</div>"
      ],
      "text/plain": [
       "           Date  Customer_ID    Product  Rating  \\\n",
       "495  2023-12-04         1209  Product D       2   \n",
       "496  2023-06-01         1691  Product D       2   \n",
       "497  2023-05-13         1296  Product A       5   \n",
       "498  2023-05-14         1059  Product A       3   \n",
       "499  2022-07-25         1490  Product A       4   \n",
       "\n",
       "                                 Feedback  \n",
       "495  Fantastic, exceeded my expectations!  \n",
       "496         Not bad, but could be better.  \n",
       "497         Not bad, but could be better.  \n",
       "498                  Not worth the price.  \n",
       "499            Terrible customer service.  "
      ]
     },
     "execution_count": 5,
     "metadata": {},
     "output_type": "execute_result"
    }
   ],
   "source": [
    "cust_feedback_df.tail()"
   ]
  },
  {
   "cell_type": "code",
   "execution_count": 6,
   "metadata": {},
   "outputs": [
    {
     "name": "stdout",
     "output_type": "stream",
     "text": [
      "<class 'pandas.core.frame.DataFrame'>\n",
      "RangeIndex: 500 entries, 0 to 499\n",
      "Data columns (total 5 columns):\n",
      " #   Column       Non-Null Count  Dtype \n",
      "---  ------       --------------  ----- \n",
      " 0   Date         500 non-null    object\n",
      " 1   Customer_ID  500 non-null    int64 \n",
      " 2   Product      500 non-null    object\n",
      " 3   Rating       500 non-null    int64 \n",
      " 4   Feedback     500 non-null    object\n",
      "dtypes: int64(2), object(3)\n",
      "memory usage: 19.7+ KB\n"
     ]
    }
   ],
   "source": [
    "cust_feedback_df.info()"
   ]
  },
  {
   "cell_type": "code",
   "execution_count": 7,
   "metadata": {},
   "outputs": [
    {
     "data": {
      "text/html": [
       "<div>\n",
       "<style scoped>\n",
       "    .dataframe tbody tr th:only-of-type {\n",
       "        vertical-align: middle;\n",
       "    }\n",
       "\n",
       "    .dataframe tbody tr th {\n",
       "        vertical-align: top;\n",
       "    }\n",
       "\n",
       "    .dataframe thead th {\n",
       "        text-align: right;\n",
       "    }\n",
       "</style>\n",
       "<table border=\"1\" class=\"dataframe\">\n",
       "  <thead>\n",
       "    <tr style=\"text-align: right;\">\n",
       "      <th></th>\n",
       "      <th>Customer_ID</th>\n",
       "      <th>Rating</th>\n",
       "    </tr>\n",
       "  </thead>\n",
       "  <tbody>\n",
       "    <tr>\n",
       "      <th>count</th>\n",
       "      <td>500.000000</td>\n",
       "      <td>500.000000</td>\n",
       "    </tr>\n",
       "    <tr>\n",
       "      <th>mean</th>\n",
       "      <td>1497.226000</td>\n",
       "      <td>2.982000</td>\n",
       "    </tr>\n",
       "    <tr>\n",
       "      <th>std</th>\n",
       "      <td>281.025204</td>\n",
       "      <td>1.378941</td>\n",
       "    </tr>\n",
       "    <tr>\n",
       "      <th>min</th>\n",
       "      <td>1000.000000</td>\n",
       "      <td>1.000000</td>\n",
       "    </tr>\n",
       "    <tr>\n",
       "      <th>25%</th>\n",
       "      <td>1241.000000</td>\n",
       "      <td>2.000000</td>\n",
       "    </tr>\n",
       "    <tr>\n",
       "      <th>50%</th>\n",
       "      <td>1512.000000</td>\n",
       "      <td>3.000000</td>\n",
       "    </tr>\n",
       "    <tr>\n",
       "      <th>75%</th>\n",
       "      <td>1731.750000</td>\n",
       "      <td>4.000000</td>\n",
       "    </tr>\n",
       "    <tr>\n",
       "      <th>max</th>\n",
       "      <td>1999.000000</td>\n",
       "      <td>5.000000</td>\n",
       "    </tr>\n",
       "  </tbody>\n",
       "</table>\n",
       "</div>"
      ],
      "text/plain": [
       "       Customer_ID      Rating\n",
       "count   500.000000  500.000000\n",
       "mean   1497.226000    2.982000\n",
       "std     281.025204    1.378941\n",
       "min    1000.000000    1.000000\n",
       "25%    1241.000000    2.000000\n",
       "50%    1512.000000    3.000000\n",
       "75%    1731.750000    4.000000\n",
       "max    1999.000000    5.000000"
      ]
     },
     "execution_count": 7,
     "metadata": {},
     "output_type": "execute_result"
    }
   ],
   "source": [
    "cust_feedback_df.describe()"
   ]
  },
  {
   "cell_type": "code",
   "execution_count": 8,
   "metadata": {},
   "outputs": [
    {
     "name": "stdout",
     "output_type": "stream",
     "text": [
      "This DataFrame consists of  500 Observations and  5 Fields\n"
     ]
    }
   ],
   "source": [
    "print('This DataFrame consists of ',cust_feedback_df.shape[0], 'Observations and ',cust_feedback_df.shape[1], 'Fields')"
   ]
  },
  {
   "cell_type": "code",
   "execution_count": 9,
   "metadata": {},
   "outputs": [
    {
     "data": {
      "text/plain": [
       "Date           0\n",
       "Customer_ID    0\n",
       "Product        0\n",
       "Rating         0\n",
       "Feedback       0\n",
       "dtype: int64"
      ]
     },
     "execution_count": 9,
     "metadata": {},
     "output_type": "execute_result"
    }
   ],
   "source": [
    "cust_feedback_df.isnull().sum()"
   ]
  },
  {
   "cell_type": "markdown",
   "metadata": {},
   "source": [
    "#### Change Date from object to Date Data type"
   ]
  },
  {
   "cell_type": "code",
   "execution_count": 10,
   "metadata": {},
   "outputs": [
    {
     "name": "stdout",
     "output_type": "stream",
     "text": [
      "<class 'pandas.core.frame.DataFrame'>\n",
      "RangeIndex: 500 entries, 0 to 499\n",
      "Data columns (total 5 columns):\n",
      " #   Column       Non-Null Count  Dtype         \n",
      "---  ------       --------------  -----         \n",
      " 0   Date         500 non-null    datetime64[ns]\n",
      " 1   Customer_ID  500 non-null    int64         \n",
      " 2   Product      500 non-null    object        \n",
      " 3   Rating       500 non-null    int64         \n",
      " 4   Feedback     500 non-null    object        \n",
      "dtypes: datetime64[ns](1), int64(2), object(2)\n",
      "memory usage: 19.7+ KB\n"
     ]
    }
   ],
   "source": [
    "cust_feedback_df['Date'] = pd.to_datetime(cust_feedback_df['Date'])\n",
    "cust_feedback_df.info()"
   ]
  },
  {
   "cell_type": "markdown",
   "metadata": {},
   "source": [
    "### Visualize Overall Ratings ditrubutions"
   ]
  },
  {
   "cell_type": "code",
   "execution_count": 11,
   "metadata": {},
   "outputs": [],
   "source": [
    "rating_cnt = cust_feedback_df['Rating'].value_counts()"
   ]
  },
  {
   "cell_type": "code",
   "execution_count": 12,
   "metadata": {},
   "outputs": [
    {
     "data": {
      "text/html": [
       "<div>\n",
       "<style scoped>\n",
       "    .dataframe tbody tr th:only-of-type {\n",
       "        vertical-align: middle;\n",
       "    }\n",
       "\n",
       "    .dataframe tbody tr th {\n",
       "        vertical-align: top;\n",
       "    }\n",
       "\n",
       "    .dataframe thead th {\n",
       "        text-align: right;\n",
       "    }\n",
       "</style>\n",
       "<table border=\"1\" class=\"dataframe\">\n",
       "  <thead>\n",
       "    <tr style=\"text-align: right;\">\n",
       "      <th></th>\n",
       "      <th>Date</th>\n",
       "      <th>Customer_ID</th>\n",
       "      <th>Product</th>\n",
       "      <th>Rating</th>\n",
       "      <th>Feedback</th>\n",
       "    </tr>\n",
       "  </thead>\n",
       "  <tbody>\n",
       "    <tr>\n",
       "      <th>0</th>\n",
       "      <td>2023-11-16</td>\n",
       "      <td>1414</td>\n",
       "      <td>Product B</td>\n",
       "      <td>2</td>\n",
       "      <td>Great product, very satisfied!</td>\n",
       "    </tr>\n",
       "    <tr>\n",
       "      <th>1</th>\n",
       "      <td>2023-07-14</td>\n",
       "      <td>1365</td>\n",
       "      <td>Product A</td>\n",
       "      <td>1</td>\n",
       "      <td>Excellent quality, highly recommend!</td>\n",
       "    </tr>\n",
       "    <tr>\n",
       "      <th>2</th>\n",
       "      <td>2023-09-22</td>\n",
       "      <td>1855</td>\n",
       "      <td>Product A</td>\n",
       "      <td>2</td>\n",
       "      <td>Great product, very satisfied!</td>\n",
       "    </tr>\n",
       "    <tr>\n",
       "      <th>3</th>\n",
       "      <td>2022-07-12</td>\n",
       "      <td>1738</td>\n",
       "      <td>Product D</td>\n",
       "      <td>5</td>\n",
       "      <td>Not bad, but could be better.</td>\n",
       "    </tr>\n",
       "    <tr>\n",
       "      <th>4</th>\n",
       "      <td>2023-12-09</td>\n",
       "      <td>1419</td>\n",
       "      <td>Product E</td>\n",
       "      <td>1</td>\n",
       "      <td>Worst product ever, very disappointed.</td>\n",
       "    </tr>\n",
       "    <tr>\n",
       "      <th>5</th>\n",
       "      <td>2022-12-26</td>\n",
       "      <td>1585</td>\n",
       "      <td>Product B</td>\n",
       "      <td>3</td>\n",
       "      <td>Worst product ever, very disappointed.</td>\n",
       "    </tr>\n",
       "    <tr>\n",
       "      <th>6</th>\n",
       "      <td>2022-01-10</td>\n",
       "      <td>1218</td>\n",
       "      <td>Product A</td>\n",
       "      <td>4</td>\n",
       "      <td>Excellent quality, highly recommend!</td>\n",
       "    </tr>\n",
       "    <tr>\n",
       "      <th>7</th>\n",
       "      <td>2023-12-25</td>\n",
       "      <td>1951</td>\n",
       "      <td>Product A</td>\n",
       "      <td>2</td>\n",
       "      <td>Average, nothing special.</td>\n",
       "    </tr>\n",
       "    <tr>\n",
       "      <th>8</th>\n",
       "      <td>2022-10-05</td>\n",
       "      <td>1538</td>\n",
       "      <td>Product C</td>\n",
       "      <td>5</td>\n",
       "      <td>Good value for money.</td>\n",
       "    </tr>\n",
       "    <tr>\n",
       "      <th>9</th>\n",
       "      <td>2023-08-23</td>\n",
       "      <td>1374</td>\n",
       "      <td>Product B</td>\n",
       "      <td>1</td>\n",
       "      <td>Not worth the price.</td>\n",
       "    </tr>\n",
       "    <tr>\n",
       "      <th>10</th>\n",
       "      <td>2022-03-12</td>\n",
       "      <td>1022</td>\n",
       "      <td>Product B</td>\n",
       "      <td>4</td>\n",
       "      <td>Good value for money.</td>\n",
       "    </tr>\n",
       "    <tr>\n",
       "      <th>11</th>\n",
       "      <td>2023-04-18</td>\n",
       "      <td>1460</td>\n",
       "      <td>Product A</td>\n",
       "      <td>3</td>\n",
       "      <td>Not bad, but could be better.</td>\n",
       "    </tr>\n",
       "    <tr>\n",
       "      <th>12</th>\n",
       "      <td>2023-08-24</td>\n",
       "      <td>1719</td>\n",
       "      <td>Product B</td>\n",
       "      <td>5</td>\n",
       "      <td>Terrible customer service.</td>\n",
       "    </tr>\n",
       "    <tr>\n",
       "      <th>13</th>\n",
       "      <td>2023-02-01</td>\n",
       "      <td>1354</td>\n",
       "      <td>Product B</td>\n",
       "      <td>3</td>\n",
       "      <td>Not bad, but could be better.</td>\n",
       "    </tr>\n",
       "    <tr>\n",
       "      <th>14</th>\n",
       "      <td>2022-11-11</td>\n",
       "      <td>1602</td>\n",
       "      <td>Product A</td>\n",
       "      <td>1</td>\n",
       "      <td>Fantastic, exceeded my expectations!</td>\n",
       "    </tr>\n",
       "  </tbody>\n",
       "</table>\n",
       "</div>"
      ],
      "text/plain": [
       "         Date  Customer_ID    Product  Rating  \\\n",
       "0  2023-11-16         1414  Product B       2   \n",
       "1  2023-07-14         1365  Product A       1   \n",
       "2  2023-09-22         1855  Product A       2   \n",
       "3  2022-07-12         1738  Product D       5   \n",
       "4  2023-12-09         1419  Product E       1   \n",
       "5  2022-12-26         1585  Product B       3   \n",
       "6  2022-01-10         1218  Product A       4   \n",
       "7  2023-12-25         1951  Product A       2   \n",
       "8  2022-10-05         1538  Product C       5   \n",
       "9  2023-08-23         1374  Product B       1   \n",
       "10 2022-03-12         1022  Product B       4   \n",
       "11 2023-04-18         1460  Product A       3   \n",
       "12 2023-08-24         1719  Product B       5   \n",
       "13 2023-02-01         1354  Product B       3   \n",
       "14 2022-11-11         1602  Product A       1   \n",
       "\n",
       "                                  Feedback  \n",
       "0           Great product, very satisfied!  \n",
       "1     Excellent quality, highly recommend!  \n",
       "2           Great product, very satisfied!  \n",
       "3            Not bad, but could be better.  \n",
       "4   Worst product ever, very disappointed.  \n",
       "5   Worst product ever, very disappointed.  \n",
       "6     Excellent quality, highly recommend!  \n",
       "7                Average, nothing special.  \n",
       "8                    Good value for money.  \n",
       "9                     Not worth the price.  \n",
       "10                   Good value for money.  \n",
       "11           Not bad, but could be better.  \n",
       "12              Terrible customer service.  \n",
       "13           Not bad, but could be better.  \n",
       "14    Fantastic, exceeded my expectations!  "
      ]
     },
     "execution_count": 12,
     "metadata": {},
     "output_type": "execute_result"
    }
   ],
   "source": [
    "cust_feedback_df.head(15)"
   ]
  },
  {
   "cell_type": "code",
   "execution_count": 13,
   "metadata": {},
   "outputs": [
    {
     "name": "stdout",
     "output_type": "stream",
     "text": [
      "Rating\n",
      "4    109\n",
      "2    108\n",
      "3    100\n",
      "1     94\n",
      "5     89\n",
      "Name: count, dtype: int64\n"
     ]
    }
   ],
   "source": [
    "print(rating_cnt)"
   ]
  },
  {
   "cell_type": "code",
   "execution_count": 14,
   "metadata": {},
   "outputs": [
    {
     "data": {
      "image/png": "[encoded data removed]",
      "text/plain": [
       "<Figure size 800x800 with 1 Axes>"
      ]
     },
     "metadata": {},
     "output_type": "display_data"
    }
   ],
   "source": [
    "plt.figure(figsize=(8,8))\n",
    "plt.pie(rating_cnt, explode=(1,0,0,0,0) ,autopct='%1.1f%%', startangle=140)\n",
    "plt.title('Pie Chart showing distribution of Overall Ratings')\n",
    "plt.axis('equal')\n",
    "plt.show()"
   ]
  },
  {
   "cell_type": "markdown",
   "metadata": {},
   "source": [
    "### Visualise the Average Product rating in a Bar and Column chart"
   ]
  },
  {
   "cell_type": "code",
   "execution_count": 15,
   "metadata": {},
   "outputs": [
    {
     "name": "stdout",
     "output_type": "stream",
     "text": [
      "Product\n",
      "Product C    3.08\n",
      "Product A    3.02\n",
      "Product B    2.95\n",
      "Product D    2.94\n",
      "Product E    2.92\n",
      "Name: Rating, dtype: float64\n"
     ]
    }
   ],
   "source": [
    "ave_prod_rating = cust_feedback_df.groupby('Product')['Rating'].mean().round(2).sort_values(ascending=False)\n",
    "print(ave_prod_rating)"
   ]
  },
  {
   "cell_type": "code",
   "execution_count": 16,
   "metadata": {},
   "outputs": [],
   "source": [
    "colors=['g', 'b', 'r', 'y', 'k']"
   ]
  },
  {
   "cell_type": "code",
   "execution_count": 17,
   "metadata": {},
   "outputs": [
    {
     "data": {
      "image/png": "[encoded data removed]",
      "text/plain": [
       "<Figure size 1400x600 with 2 Axes>"
      ]
     },
     "metadata": {},
     "output_type": "display_data"
    }
   ],
   "source": [
    "plt.figure(figsize=(14,6))\n",
    "plt.suptitle('Average Rating for each product')\n",
    "\n",
    "plt.subplot(1,2,1)\n",
    "ave_prod_rating.plot(kind='bar',color=colors)\n",
    "plt.title('Column Graph')\n",
    "plt.xlabel('Product')\n",
    "plt.ylabel('Rating')\n",
    "\n",
    "plt.subplot(1,2,2)\n",
    "ave_prod_rating.plot(kind='barh',color=colors)\n",
    "plt.title('Bar Graph')\n",
    "plt.xlabel('Rating')\n",
    "plt.ylabel('Product')\n",
    "\n",
    "plt.tight_layout()\n",
    "plt.show()"
   ]
  },
  {
   "cell_type": "code",
   "execution_count": 18,
   "metadata": {},
   "outputs": [
    {
     "ename": "ModuleNotFoundError",
     "evalue": "No module named 'textblob'",
     "output_type": "error",
     "traceback": [
      "\u001b[1;31m---------------------------------------------------------------------------\u001b[0m",
      "\u001b[1;31mModuleNotFoundError\u001b[0m                       Traceback (most recent call last)",
      "Cell \u001b[1;32mIn[18], line 1\u001b[0m\n\u001b[1;32m----> 1\u001b[0m \u001b[38;5;28;01mfrom\u001b[39;00m \u001b[38;5;21;01mtextblob\u001b[39;00m \u001b[38;5;28;01mimport\u001b[39;00m TextBlob\n\u001b[0;32m      2\u001b[0m \u001b[38;5;28;01mfrom\u001b[39;00m \u001b[38;5;21;01mwordcloud\u001b[39;00m \u001b[38;5;28;01mimport\u001b[39;00m WordCloud\n\u001b[0;32m      4\u001b[0m \u001b[38;5;66;03m# Perform sentiment analysis\u001b[39;00m\n",
      "\u001b[1;31mModuleNotFoundError\u001b[0m: No module named 'textblob'"
     ]
    }
   ],
   "source": [
    "from textblob import TextBlob\n",
    "from wordcloud import WordCloud\n",
    "\n",
    "# Perform sentiment analysis\n",
    "cust_feedback_df['Sentiment'] = cust_feedback_df['Feedback'].apply(lambda x: TextBlob(x).sentiment.polarity)\n",
    "\n",
    "# Separate positive and negative comments\n",
    "positive_comments = ' '.join(cust_feedback_df[cust_feedback_df['Sentiment'] > 0]['Feedback'])\n",
    "negative_comments = ' '.join(cust_feedback_df[cust_feedback_df['Sentiment'] < 0]['Feedback'])\n",
    "\n",
    "# Generate word clouds\n",
    "positive_wordcloud = WordCloud(width=800, height=400, background_color='white').generate(positive_comments)\n",
    "negative_wordcloud = WordCloud(width=800, height=400, background_color='white').generate(negative_comments)\n",
    "\n",
    "# Plot the word clouds\n",
    "plt.figure(figsize=(10, 5))\n",
    "plt.subplot(1, 2, 1)\n",
    "plt.imshow(positive_wordcloud, interpolation='bilinear')\n",
    "plt.axis('off')\n",
    "plt.title('Positive Comments')\n",
    "\n",
    "plt.subplot(1, 2, 2)\n",
    "plt.imshow(negative_wordcloud, interpolation='bilinear')\n",
    "plt.axis('off')\n",
    "plt.title('Negative Comments')\n",
    "\n",
    "plt.show()\n"
   ]
  }
 ],
 "metadata": {
  "kernelspec": {
   "display_name": "base",
   "language": "python",
   "name": "python3"
  },
  "language_info": {
   "codemirror_mode": {
    "name": "ipython",
    "version": 3
   },
   "file_extension": ".py",
   "mimetype": "text/x-python",
   "name": "python",
   "nbconvert_exporter": "python",
   "pygments_lexer": "ipython3",
   "version": "3.11.7"
  }
 },
 "nbformat": 4,
 "nbformat_minor": 2
}
