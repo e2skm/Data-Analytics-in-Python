{
 "cells": [
  {
   "cell_type": "markdown",
   "metadata": {},
   "source": [
    "## 2.Formulate null and alternative hypotheses.\n"
   ]
  },
  {
   "cell_type": "markdown",
   "metadata": {},
   "source": [
    "### 2.1 My H0 (Null Hypothesis) is: The new training program does not significantly improve employee performance. \n",
    "#### -In other words there is no significant difference between Pre-Training and Post-Training Employee productivivty scores"
   ]
  },
  {
   "cell_type": "markdown",
   "metadata": {},
   "source": [
    "### 2.2 My H1 (Alternative Hypothesis) is: The new training program does significantly improve employee performance\n",
    "#### -In other words there is a significant difference between Pre-Training and Post-Training Employee productivivty scores"
   ]
  }
 ],
 "metadata": {
  "language_info": {
   "name": "python"
  }
 },
 "nbformat": 4,
 "nbformat_minor": 2
}
