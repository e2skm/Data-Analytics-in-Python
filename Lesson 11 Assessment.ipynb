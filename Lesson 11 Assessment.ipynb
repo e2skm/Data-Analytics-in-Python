{
 "cells": [
  {
   "cell_type": "markdown",
   "metadata": {},
   "source": [
    "# Lesson 11 Assessment"
   ]
  },
  {
   "cell_type": "markdown",
   "metadata": {},
   "source": [
    "## Import all the necessary liabraries"
   ]
  },
  {
   "cell_type": "code",
   "execution_count": 41,
   "metadata": {},
   "outputs": [],
   "source": [
    "import pandas as pd"
   ]
  },
  {
   "cell_type": "code",
   "execution_count": 42,
   "metadata": {},
   "outputs": [],
   "source": [
    "from scipy import stats "
   ]
  },
  {
   "cell_type": "code",
   "execution_count": 43,
   "metadata": {},
   "outputs": [],
   "source": [
    "import matplotlib.pyplot as plt"
   ]
  },
  {
   "cell_type": "code",
   "execution_count": 44,
   "metadata": {},
   "outputs": [],
   "source": [
    "import seaborn as sns"
   ]
  },
  {
   "cell_type": "markdown",
   "metadata": {},
   "source": [
    "## 1.Load the dataset and explore the data.\n"
   ]
  },
  {
   "cell_type": "code",
   "execution_count": 45,
   "metadata": {},
   "outputs": [
    {
     "data": {
      "text/html": [
       "<div>\n",
       "<style scoped>\n",
       "    .dataframe tbody tr th:only-of-type {\n",
       "        vertical-align: middle;\n",
       "    }\n",
       "\n",
       "    .dataframe tbody tr th {\n",
       "        vertical-align: top;\n",
       "    }\n",
       "\n",
       "    .dataframe thead th {\n",
       "        text-align: right;\n",
       "    }\n",
       "</style>\n",
       "<table border=\"1\" class=\"dataframe\">\n",
       "  <thead>\n",
       "    <tr style=\"text-align: right;\">\n",
       "      <th></th>\n",
       "      <th>Employee_ID</th>\n",
       "      <th>Pre_Training_Score</th>\n",
       "      <th>Post_Training_Score</th>\n",
       "    </tr>\n",
       "  </thead>\n",
       "  <tbody>\n",
       "    <tr>\n",
       "      <th>0</th>\n",
       "      <td>1</td>\n",
       "      <td>74.97</td>\n",
       "      <td>86.97</td>\n",
       "    </tr>\n",
       "    <tr>\n",
       "      <th>1</th>\n",
       "      <td>2</td>\n",
       "      <td>68.62</td>\n",
       "      <td>78.24</td>\n",
       "    </tr>\n",
       "    <tr>\n",
       "      <th>2</th>\n",
       "      <td>3</td>\n",
       "      <td>76.48</td>\n",
       "      <td>81.78</td>\n",
       "    </tr>\n",
       "    <tr>\n",
       "      <th>3</th>\n",
       "      <td>4</td>\n",
       "      <td>85.23</td>\n",
       "      <td>87.00</td>\n",
       "    </tr>\n",
       "    <tr>\n",
       "      <th>4</th>\n",
       "      <td>5</td>\n",
       "      <td>67.66</td>\n",
       "      <td>76.15</td>\n",
       "    </tr>\n",
       "  </tbody>\n",
       "</table>\n",
       "</div>"
      ],
      "text/plain": [
       "   Employee_ID  Pre_Training_Score  Post_Training_Score\n",
       "0            1               74.97                86.97\n",
       "1            2               68.62                78.24\n",
       "2            3               76.48                81.78\n",
       "3            4               85.23                87.00\n",
       "4            5               67.66                76.15"
      ]
     },
     "execution_count": 45,
     "metadata": {},
     "output_type": "execute_result"
    }
   ],
   "source": [
    "employee_productivity_df = pd.read_csv(r'C:\\Users\\Itumeleng.Sekoma\\Desktop\\Test777777\\.ipynb_checkpoints\\employee_productivity_dataset.csv')\n",
    "employee_productivity_df.head()"
   ]
  },
  {
   "cell_type": "code",
   "execution_count": 46,
   "metadata": {},
   "outputs": [
    {
     "data": {
      "text/html": [
       "<div>\n",
       "<style scoped>\n",
       "    .dataframe tbody tr th:only-of-type {\n",
       "        vertical-align: middle;\n",
       "    }\n",
       "\n",
       "    .dataframe tbody tr th {\n",
       "        vertical-align: top;\n",
       "    }\n",
       "\n",
       "    .dataframe thead th {\n",
       "        text-align: right;\n",
       "    }\n",
       "</style>\n",
       "<table border=\"1\" class=\"dataframe\">\n",
       "  <thead>\n",
       "    <tr style=\"text-align: right;\">\n",
       "      <th></th>\n",
       "      <th>Employee_ID</th>\n",
       "      <th>Pre_Training_Score</th>\n",
       "      <th>Post_Training_Score</th>\n",
       "    </tr>\n",
       "  </thead>\n",
       "  <tbody>\n",
       "    <tr>\n",
       "      <th>995</th>\n",
       "      <td>996</td>\n",
       "      <td>67.19</td>\n",
       "      <td>77.54</td>\n",
       "    </tr>\n",
       "    <tr>\n",
       "      <th>996</th>\n",
       "      <td>997</td>\n",
       "      <td>87.98</td>\n",
       "      <td>92.85</td>\n",
       "    </tr>\n",
       "    <tr>\n",
       "      <th>997</th>\n",
       "      <td>998</td>\n",
       "      <td>76.41</td>\n",
       "      <td>77.00</td>\n",
       "    </tr>\n",
       "    <tr>\n",
       "      <th>998</th>\n",
       "      <td>999</td>\n",
       "      <td>64.29</td>\n",
       "      <td>68.47</td>\n",
       "    </tr>\n",
       "    <tr>\n",
       "      <th>999</th>\n",
       "      <td>1000</td>\n",
       "      <td>75.73</td>\n",
       "      <td>77.01</td>\n",
       "    </tr>\n",
       "  </tbody>\n",
       "</table>\n",
       "</div>"
      ],
      "text/plain": [
       "     Employee_ID  Pre_Training_Score  Post_Training_Score\n",
       "995          996               67.19                77.54\n",
       "996          997               87.98                92.85\n",
       "997          998               76.41                77.00\n",
       "998          999               64.29                68.47\n",
       "999         1000               75.73                77.01"
      ]
     },
     "execution_count": 46,
     "metadata": {},
     "output_type": "execute_result"
    }
   ],
   "source": [
    "employee_productivity_df.tail()"
   ]
  },
  {
   "cell_type": "code",
   "execution_count": 47,
   "metadata": {},
   "outputs": [
    {
     "name": "stdout",
     "output_type": "stream",
     "text": [
      "<class 'pandas.core.frame.DataFrame'>\n",
      "RangeIndex: 1000 entries, 0 to 999\n",
      "Data columns (total 3 columns):\n",
      " #   Column               Non-Null Count  Dtype  \n",
      "---  ------               --------------  -----  \n",
      " 0   Employee_ID          1000 non-null   int64  \n",
      " 1   Pre_Training_Score   1000 non-null   float64\n",
      " 2   Post_Training_Score  1000 non-null   float64\n",
      "dtypes: float64(2), int64(1)\n",
      "memory usage: 23.6 KB\n"
     ]
    }
   ],
   "source": [
    "employee_productivity_df.info()"
   ]
  },
  {
   "cell_type": "code",
   "execution_count": 48,
   "metadata": {},
   "outputs": [
    {
     "data": {
      "text/html": [
       "<div>\n",
       "<style scoped>\n",
       "    .dataframe tbody tr th:only-of-type {\n",
       "        vertical-align: middle;\n",
       "    }\n",
       "\n",
       "    .dataframe tbody tr th {\n",
       "        vertical-align: top;\n",
       "    }\n",
       "\n",
       "    .dataframe thead th {\n",
       "        text-align: right;\n",
       "    }\n",
       "</style>\n",
       "<table border=\"1\" class=\"dataframe\">\n",
       "  <thead>\n",
       "    <tr style=\"text-align: right;\">\n",
       "      <th></th>\n",
       "      <th>Employee_ID</th>\n",
       "      <th>Pre_Training_Score</th>\n",
       "      <th>Post_Training_Score</th>\n",
       "    </tr>\n",
       "  </thead>\n",
       "  <tbody>\n",
       "    <tr>\n",
       "      <th>count</th>\n",
       "      <td>1000.000000</td>\n",
       "      <td>1000.000000</td>\n",
       "      <td>1000.000000</td>\n",
       "    </tr>\n",
       "    <tr>\n",
       "      <th>mean</th>\n",
       "      <td>500.500000</td>\n",
       "      <td>70.193260</td>\n",
       "      <td>75.547380</td>\n",
       "    </tr>\n",
       "    <tr>\n",
       "      <th>std</th>\n",
       "      <td>288.819436</td>\n",
       "      <td>9.792202</td>\n",
       "      <td>10.808161</td>\n",
       "    </tr>\n",
       "    <tr>\n",
       "      <th>min</th>\n",
       "      <td>1.000000</td>\n",
       "      <td>37.590000</td>\n",
       "      <td>45.280000</td>\n",
       "    </tr>\n",
       "    <tr>\n",
       "      <th>25%</th>\n",
       "      <td>250.750000</td>\n",
       "      <td>63.520000</td>\n",
       "      <td>68.485000</td>\n",
       "    </tr>\n",
       "    <tr>\n",
       "      <th>50%</th>\n",
       "      <td>500.500000</td>\n",
       "      <td>70.255000</td>\n",
       "      <td>75.480000</td>\n",
       "    </tr>\n",
       "    <tr>\n",
       "      <th>75%</th>\n",
       "      <td>750.250000</td>\n",
       "      <td>76.482500</td>\n",
       "      <td>82.322500</td>\n",
       "    </tr>\n",
       "    <tr>\n",
       "      <th>max</th>\n",
       "      <td>1000.000000</td>\n",
       "      <td>108.530000</td>\n",
       "      <td>122.280000</td>\n",
       "    </tr>\n",
       "  </tbody>\n",
       "</table>\n",
       "</div>"
      ],
      "text/plain": [
       "       Employee_ID  Pre_Training_Score  Post_Training_Score\n",
       "count  1000.000000         1000.000000          1000.000000\n",
       "mean    500.500000           70.193260            75.547380\n",
       "std     288.819436            9.792202            10.808161\n",
       "min       1.000000           37.590000            45.280000\n",
       "25%     250.750000           63.520000            68.485000\n",
       "50%     500.500000           70.255000            75.480000\n",
       "75%     750.250000           76.482500            82.322500\n",
       "max    1000.000000          108.530000           122.280000"
      ]
     },
     "execution_count": 48,
     "metadata": {},
     "output_type": "execute_result"
    }
   ],
   "source": [
    "employee_productivity_df.describe()"
   ]
  },
  {
   "cell_type": "code",
   "execution_count": 49,
   "metadata": {},
   "outputs": [
    {
     "name": "stdout",
     "output_type": "stream",
     "text": [
      "This DataFrame consists of:  1000  Observations, and: 3  Fields\n"
     ]
    }
   ],
   "source": [
    "print(\"This DataFrame consists of: \", employee_productivity_df.shape[0], \" Observations, and:\",employee_productivity_df.shape[1],\" Fields\")"
   ]
  },
  {
   "cell_type": "markdown",
   "metadata": {},
   "source": [
    "## 2.Formulate null and alternative hypotheses.\n"
   ]
  },
  {
   "cell_type": "markdown",
   "metadata": {},
   "source": [
    "### 2.1 My H0 (Null Hypothesis) is: The new training program does not significantly improve employee performance"
   ]
  },
  {
   "cell_type": "markdown",
   "metadata": {},
   "source": [
    "### 2.2 My H1 (Alternative Hypothesis) is: The new training program does significantly improve employee performance"
   ]
  },
  {
   "cell_type": "markdown",
   "metadata": {},
   "source": [
    "## 3.Conduct a paired t-test to compare pre- and post-training scores.\n"
   ]
  },
  {
   "cell_type": "markdown",
   "metadata": {},
   "source": [
    "### 3.1 Extract pre and post test scores"
   ]
  },
  {
   "cell_type": "code",
   "execution_count": 50,
   "metadata": {},
   "outputs": [
    {
     "data": {
      "text/plain": [
       "0      74.97\n",
       "1      68.62\n",
       "2      76.48\n",
       "3      85.23\n",
       "4      67.66\n",
       "       ...  \n",
       "995    67.19\n",
       "996    87.98\n",
       "997    76.41\n",
       "998    64.29\n",
       "999    75.73\n",
       "Name: Pre_Training_Score, Length: 1000, dtype: float64"
      ]
     },
     "execution_count": 50,
     "metadata": {},
     "output_type": "execute_result"
    }
   ],
   "source": [
    "pre_training_score = employee_productivity_df['Pre_Training_Score']\n",
    "pre_training_score"
   ]
  },
  {
   "cell_type": "code",
   "execution_count": 51,
   "metadata": {},
   "outputs": [
    {
     "data": {
      "text/plain": [
       "0      86.97\n",
       "1      78.24\n",
       "2      81.78\n",
       "3      87.00\n",
       "4      76.15\n",
       "       ...  \n",
       "995    77.54\n",
       "996    92.85\n",
       "997    77.00\n",
       "998    68.47\n",
       "999    77.01\n",
       "Name: Post_Training_Score, Length: 1000, dtype: float64"
      ]
     },
     "execution_count": 51,
     "metadata": {},
     "output_type": "execute_result"
    }
   ],
   "source": [
    "post_training_score = employee_productivity_df['Post_Training_Score']\n",
    "post_training_score"
   ]
  },
  {
   "cell_type": "markdown",
   "metadata": {},
   "source": [
    "### 3.2 Conduct a t-test"
   ]
  },
  {
   "cell_type": "code",
   "execution_count": 52,
   "metadata": {},
   "outputs": [
    {
     "name": "stdout",
     "output_type": "stream",
     "text": [
      "T-statistic:-33.94856516226314 \n",
      "P-value:1.3042718223108973e-168\n"
     ]
    }
   ],
   "source": [
    "t_stat, p_value = stats.ttest_rel(pre_training_score,post_training_score)\n",
    "print(f\"T-statistic:{t_stat} \\nP-value:{p_value}\")"
   ]
  },
  {
   "cell_type": "markdown",
   "metadata": {},
   "source": [
    "### 3.3 Visualize the pre and post test scores uing a boxplot"
   ]
  },
  {
   "cell_type": "code",
   "execution_count": 53,
   "metadata": {},
   "outputs": [
    {
     "data": {
      "image/png": "[encoded data removed]",
      "text/plain": [
       "<Figure size 1000x500 with 1 Axes>"
      ]
     },
     "metadata": {},
     "output_type": "display_data"
    }
   ],
   "source": [
    "plt.figure(figsize=(10,5))\n",
    "sns.boxplot(data=[pre_training_score,post_training_score],notch=True)\n",
    "plt.xticks([0,1],[pre_training_score,post_training_score])\n",
    "plt.title('Pre-training vs Post-training Productivity Scores')\n",
    "plt.ylabel('Productivity Score')\n",
    "plt.show()"
   ]
  },
  {
   "cell_type": "markdown",
   "metadata": {},
   "source": [
    "## 4.Interpret the results and conclude whether the training program has a significant impact."
   ]
  },
  {
   "cell_type": "code",
   "execution_count": 54,
   "metadata": {},
   "outputs": [],
   "source": [
    "alpha = 0.05"
   ]
  },
  {
   "cell_type": "markdown",
   "metadata": {},
   "source": [
    "### Testing my P_Value"
   ]
  },
  {
   "cell_type": "code",
   "execution_count": 55,
   "metadata": {},
   "outputs": [
    {
     "name": "stdout",
     "output_type": "stream",
     "text": [
      "1.3042718223108973e-168\n",
      "0.05\n",
      "0.0\n"
     ]
    }
   ],
   "source": [
    "print(p_value)\n",
    "print(alpha)\n",
    "p2 = p_value.round(2)\n",
    "print(p2)"
   ]
  },
  {
   "cell_type": "code",
   "execution_count": 56,
   "metadata": {},
   "outputs": [
    {
     "name": "stdout",
     "output_type": "stream",
     "text": [
      "Accept H1; the Alternative hypothesis is True. In other words the new training program has significantly improved productivity scores\n"
     ]
    }
   ],
   "source": [
    "if p_value < alpha:\n",
    "  print(\"Accept H1; the Alternative hypothesis is True. In other words the new training program has significantly improved productivity scores\")\n",
    "else:\n",
    "  print(\"Accept H0; the Null hypothesis is True. In other words the new training program has not significantly improved productivity scores\")"
   ]
  },
  {
   "cell_type": "markdown",
   "metadata": {},
   "source": [
    "## Extra code Just for control purposes"
   ]
  },
  {
   "cell_type": "markdown",
   "metadata": {},
   "source": [
    "### Compare the means of the two productivity scores"
   ]
  },
  {
   "cell_type": "code",
   "execution_count": 57,
   "metadata": {},
   "outputs": [
    {
     "name": "stdout",
     "output_type": "stream",
     "text": [
      "The Pre-training average is: 70.19, while the post-training: 75.55, meaning the Employee productivity score improved by: 5.36\n",
      "In simple terms the Average employee productivity score improved by: 7.64 %\n"
     ]
    }
   ],
   "source": [
    "pre_training_mean = round(pre_training_score.mean(),2)\n",
    "post_training_mean = round(post_training_score.mean(),2)\n",
    "mean_diff = round(post_training_mean - pre_training_mean,2)\n",
    "mean_percent_improvement = round((mean_diff / pre_training_mean) * 100,2)\n",
    "print(f\"The Pre-training average is: {pre_training_mean}, while the post-training: {post_training_mean}, meaning the Employee productivity score improved by: {mean_diff}\")\n",
    "print(f\"In simple terms the Average employee productivity score improved by: {mean_percent_improvement} %\")"
   ]
  },
  {
   "cell_type": "markdown",
   "metadata": {},
   "source": [
    "### Compare the lowest minimum of the two productivity scores"
   ]
  },
  {
   "cell_type": "code",
   "execution_count": 58,
   "metadata": {},
   "outputs": [
    {
     "name": "stdout",
     "output_type": "stream",
     "text": [
      "The lowest score pre-training is: 37.59, while the lowest score post training is: 45.28, it improved by: 7.69\n",
      "This means the lowest score went increased by: 20.46 %\n"
     ]
    }
   ],
   "source": [
    "lowest_PScore_preTraining = round(pre_training_score.min(),2)\n",
    "lowest_PScore_postTraining = round(post_training_score.min(),2)\n",
    "min_diff = round(lowest_PScore_postTraining - lowest_PScore_preTraining,2)\n",
    "min_percent_impr = round((min_diff / lowest_PScore_preTraining) * 100, 2)\n",
    "print(f\"The lowest score pre-training is: {lowest_PScore_preTraining}, while the lowest score post training is: {lowest_PScore_postTraining}, it improved by: {min_diff}\")\n",
    "print(f\"This means the lowest score went increased by: {min_percent_impr} %\")"
   ]
  },
  {
   "cell_type": "markdown",
   "metadata": {},
   "source": [
    "### Compare the highest maximum of the two productivity scores"
   ]
  },
  {
   "cell_type": "code",
   "execution_count": 59,
   "metadata": {},
   "outputs": [
    {
     "name": "stdout",
     "output_type": "stream",
     "text": [
      "The highest score pre-training is: 108.53, while the highest score post training is: 122.28, it improved by: 13.75\n",
      "Therefore the highest productivity score increased by : 12.67 %\n"
     ]
    }
   ],
   "source": [
    "highest_PScore_preTraining = round(pre_training_score.max(),2)\n",
    "highest_PScore_postTraining = round(post_training_score.max(),2)\n",
    "max_diff = round(highest_PScore_postTraining - highest_PScore_preTraining,2)\n",
    "max_percent_impr = round((max_diff / highest_PScore_preTraining) * 100 , 2)\n",
    "print(f\"The highest score pre-training is: {highest_PScore_preTraining}, while the highest score post training is: {highest_PScore_postTraining}, it improved by: {max_diff}\")\n",
    "print(f\"Therefore the highest productivity score increased by : {max_percent_impr} %\")"
   ]
  }
 ],
 "metadata": {
  "kernelspec": {
   "display_name": "base",
   "language": "python",
   "name": "python3"
  },
  "language_info": {
   "codemirror_mode": {
    "name": "ipython",
    "version": 3
   },
   "file_extension": ".py",
   "mimetype": "text/x-python",
   "name": "python",
   "nbconvert_exporter": "python",
   "pygments_lexer": "ipython3",
   "version": "3.11.7"
  }
 },
 "nbformat": 4,
 "nbformat_minor": 2
}
